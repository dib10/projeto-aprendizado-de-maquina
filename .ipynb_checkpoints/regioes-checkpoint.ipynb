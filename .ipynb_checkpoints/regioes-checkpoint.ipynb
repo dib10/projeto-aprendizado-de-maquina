{
 "cells": [
  {
   "cell_type": "markdown",
   "id": "f03be7fb-bae2-42fd-a42a-8c7e7e7db9bd",
   "metadata": {},
   "source": [
    "## Aluno: Caio Dib Laronga\n",
    "## Prontuário: Gu3042294\n",
    "## Disciplina: Aprendizado de Máquina\n"
   ]
  },
  {
   "cell_type": "code",
   "execution_count": null,
   "id": "f5873225-ac37-4a64-a705-7a580c011b8c",
   "metadata": {},
   "outputs": [],
   "source": [
    "#importações\n",
    "import pandas as pd\n",
    "import numpy as np\n",
    "import matplotlib.pyplot as plt\n",
    "import seaborn as sns\n",
    "from sklearn.linear_model import LinearRegression\n",
    "from sklearn.model_selection import train_test_split\n",
    "from sklearn.metrics import mean_squared_error, r2_score, mean_absolute_error\n",
    "from sklearn.ensemble import RandomForestRegressor\n",
    "from sklearn.tree import DecisionTreeRegressor\n",
    "from sklearn.ensemble import GradientBoostingRegressor, AdaBoostRegressor, RandomForestRegressor, BaggingRegressor, StackingRegressor\n",
    "from sklearn.neighbors import KNeighborsRegressor\n",
    "\n"
   ]
  },
  {
   "cell_type": "markdown",
   "id": "52332f65-0b0f-4462-a583-5597155cebfa",
   "metadata": {},
   "source": [
    "<h1 style=\"color:gray;\">Especificando os tipos dos atributos ao abrir o DataFrame, observa-se que \"vendas\" está no formato brasileiro (vírgula) e classificada como <i>object</i>, exigindo tratamento.</h1>\n"
   ]
  },
  {
   "cell_type": "code",
   "execution_count": null,
   "id": "edc170de-4729-4b48-a2b6-1b351255f3b2",
   "metadata": {},
   "outputs": [],
   "source": [
    "#Ao todo temos 6 atributos\n",
    "tipos_de_dados = {\n",
    "    'ANO': int,\n",
    "    'MÊS': str,  \n",
    "    'GRANDE REGIÃO': str,\n",
    "    'UNIDADE DA FEDERAÇÃO': str,\n",
    "    'PRODUTO': str,\n",
    "    'VENDAS': float #passo direto como float ao abrir  \n",
    "} \n"
   ]
  },
  {
   "cell_type": "code",
   "execution_count": null,
   "id": "31ecb88b-2f53-4ad4-9ae5-32b4c8298c12",
   "metadata": {},
   "outputs": [],
   "source": [
    "df = pd.read_csv('vendas-combustiveis-m3-1990-2024.csv', sep=';',  dtype=tipos_de_dados, decimal=',')\n"
   ]
  },
  {
   "cell_type": "markdown",
   "id": "1f51e3d4-a144-4177-81cf-34c76484e764",
   "metadata": {},
   "source": [
    "<h1 style=\"color:gray;\">Dataframe Original</h1>\n"
   ]
  },
  {
   "cell_type": "code",
   "execution_count": null,
   "id": "ee9607aa-468e-4f7f-981c-25e4600e6424",
   "metadata": {},
   "outputs": [],
   "source": [
    "df"
   ]
  },
  {
   "cell_type": "markdown",
   "id": "f639007e-1bc4-45e3-88a7-4f961b83c842",
   "metadata": {},
   "source": [
    "<h1 style=\"color:gray;\">Análise Exploratória</h1\n"
   ]
  },
  {
   "cell_type": "markdown",
   "id": "43ade047-862e-438f-99e5-330fe56f6eac",
   "metadata": {},
   "source": [
    "### -Nota-se uma desigualdade de vendas por região"
   ]
  },
  {
   "cell_type": "code",
   "execution_count": null,
   "id": "6885fa29-ebd3-49d6-95cc-779a2c3e2ed4",
   "metadata": {},
   "outputs": [],
   "source": [
    "df.groupby('GRANDE REGIÃO')['VENDAS'].sum().plot(kind='bar', title='Distribuição de Vendas por Região')\n"
   ]
  },
  {
   "cell_type": "markdown",
   "id": "f2e2f9c0-b203-47d8-9cd8-ca28b99a747f",
   "metadata": {},
   "source": [
    "### -Nota-se uma desigualdade na distribuição de vendas"
   ]
  },
  {
   "cell_type": "code",
   "execution_count": null,
   "id": "61ee890e-7eff-4431-b24b-e71d57590dec",
   "metadata": {},
   "outputs": [],
   "source": [
    "vendas_por_produto_regiao = df.groupby(['GRANDE REGIÃO', 'PRODUTO'])['VENDAS'].sum().unstack()\n",
    "vendas_por_produto_regiao.plot(kind='bar', stacked=True, figsize=(10, 6), title='Vendas por Combustível e Região')\n"
   ]
  },
  {
   "cell_type": "code",
   "execution_count": null,
   "id": "1b563eab-99e7-4cd1-865f-60410132ab85",
   "metadata": {},
   "outputs": [],
   "source": [
    "print(f'Colunas do DataFrame Original:\\n\\n{df.columns}')"
   ]
  },
  {
   "cell_type": "code",
   "execution_count": null,
   "id": "eb508b7f-0660-443b-9155-0dbfc3ac1f2a",
   "metadata": {},
   "outputs": [],
   "source": [
    "df.info()"
   ]
  },
  {
   "cell_type": "code",
   "execution_count": null,
   "id": "1bf4595b-a6a8-48d6-b11a-b31ee1ad7e41",
   "metadata": {},
   "outputs": [],
   "source": [
    "df.isnull().sum()"
   ]
  },
  {
   "cell_type": "code",
   "execution_count": null,
   "id": "93cc750e-4ccb-4795-92ba-7e5d033876e8",
   "metadata": {},
   "outputs": [],
   "source": [
    "df.nunique()"
   ]
  },
  {
   "cell_type": "code",
   "execution_count": null,
   "id": "c26913ff-9b03-4c29-ba81-dcefc2145f0b",
   "metadata": {},
   "outputs": [],
   "source": [
    "df.dtypes"
   ]
  },
  {
   "cell_type": "code",
   "execution_count": null,
   "id": "5ab0becb-82b1-4a8c-940c-22b5396dbddc",
   "metadata": {},
   "outputs": [],
   "source": [
    "df.duplicated().sum()"
   ]
  },
  {
   "cell_type": "code",
   "execution_count": null,
   "id": "3703740a-f8f3-4128-950e-37c9a402df88",
   "metadata": {},
   "outputs": [],
   "source": [
    "produtos_unicos = df['PRODUTO'].unique()\n",
    "\n",
    "print(produtos_unicos)\n"
   ]
  },
  {
   "cell_type": "markdown",
   "id": "19f73fe9-43e9-4e37-9e99-da2850b5a2ee",
   "metadata": {},
   "source": [
    "<h1 style=\"color:gray;\">Contando a ocorrência de cada valor</h1>\n"
   ]
  },
  {
   "cell_type": "code",
   "execution_count": null,
   "id": "d783f397-0528-4405-aea8-8573194c4879",
   "metadata": {},
   "outputs": [],
   "source": [
    "conta_produtos = df['PRODUTO'].value_counts()\n",
    "conta_produtos"
   ]
  },
  {
   "cell_type": "code",
   "execution_count": null,
   "id": "9595d515-f35b-4fdb-8939-9e8c1b039656",
   "metadata": {},
   "outputs": [],
   "source": [
    "conta_produtos = df['PRODUTO'].value_counts()\n",
    "conta_produtos"
   ]
  },
  {
   "cell_type": "code",
   "execution_count": null,
   "id": "8d6e7f87-528b-4d23-8cc4-1ea2eae2d0c8",
   "metadata": {},
   "outputs": [],
   "source": [
    "conta_vendas = df['VENDAS'].value_counts()\n",
    "conta_vendas"
   ]
  },
  {
   "cell_type": "code",
   "execution_count": null,
   "id": "0cc5acb5-8a2e-44ae-b4a8-9380fd9e8183",
   "metadata": {},
   "outputs": [],
   "source": [
    "conta_ano = df['ANO'].value_counts()\n",
    "conta_ano"
   ]
  },
  {
   "cell_type": "code",
   "execution_count": null,
   "id": "0239f906-746d-42ac-aa4d-fbb63f3c0537",
   "metadata": {},
   "outputs": [],
   "source": []
  },
  {
   "cell_type": "markdown",
   "id": "fb8ecb71-42a6-4578-b836-a0d76b5475e8",
   "metadata": {},
   "source": [
    "### Legenda de Cores\n",
    "\n",
    "Cada região será representada por uma cor:\n",
    "| Dataframe       | Cor            | Amostra de Cor              |\n",
    "|--------------|------------------ |-----------------------------|\n",
    "| Original      | Cinza            | ![#808080](https://via.placeholder.com/15/808080/000000?text=+) |\n",
    "| Sudeste       | Roxa             | ![#800080](https://via.placeholder.com/15/800080/000000?text=+) |\n",
    "| Nordeste      | Laranja          | ![#FFA500](https://via.placeholder.com/15/FFA500/000000?text=+) |\n",
    "| Norte            | Vermelho       | ![#FF0000](https://via.placeholder.com/15/FF0000/FF0000?text=+) |\n",
    "| Centro-Oeste     | Amarelo        | ![#FFFF00](https://via.placeholder.com/15/FFFF00/FFFF00?text=+) |\n",
    "| Sul              | Azul           | ![#0000FF](https://via.placeholder.com/15/0000FF/0000FF?text=+) |"
   ]
  },
  {
   "cell_type": "markdown",
   "id": "4b0e750c-62c4-456a-966b-7233a6094879",
   "metadata": {},
   "source": [
    "<h1 style=\"color:gray;\">Quebrando o Dataframe original por regiões</h1>\n",
    "<ul style=\"color:gray;\">\n",
    "    <li>Como os dataframes fragmentados são parte de um todo, a análise exploratória é válida para seus fragmentos.</li>\n",
    "</ul>\n"
   ]
  },
  {
   "cell_type": "code",
   "execution_count": null,
   "id": "403e1416-d7c3-4859-9240-3aca15666530",
   "metadata": {},
   "outputs": [],
   "source": [
    "df_sudeste = df.loc[df['GRANDE REGIÃO'] == 'REGIÃO SUDESTE']\n",
    "df_norte = df.loc[df['GRANDE REGIÃO'] == 'REGIÃO NORTE']\n",
    "df_nordeste = df.loc[df['GRANDE REGIÃO'] == 'REGIÃO NORDESTE']\n",
    "df_sul = df.loc[df['GRANDE REGIÃO'] == 'REGIÃO SUL']\n",
    "df_centro_oeste = df.loc[df['GRANDE REGIÃO'] == 'REGIÃO CENTRO-OESTE']"
   ]
  },
  {
   "cell_type": "markdown",
   "id": "3c7613f9-2a9b-4c2b-960b-6cd82176986e",
   "metadata": {},
   "source": [
    "<h1 style=\"color:purple;\">Pré- processamento - Região Sudeste</h1>\n"
   ]
  },
  {
   "cell_type": "code",
   "execution_count": null,
   "id": "2ec83e17-2f92-4169-84d1-df0b5a960bf1",
   "metadata": {},
   "outputs": [],
   "source": [
    "media_vendas_sudeste = df_sudeste['VENDAS'].mean()\n",
    "\n",
    "print(f\"Média de vendas na Região Sudeste: {media_vendas_sudeste:.2f} m³\")\n"
   ]
  },
  {
   "cell_type": "code",
   "execution_count": null,
   "id": "c4645a41-2be4-4835-98a2-6c7d8b1f38b4",
   "metadata": {},
   "outputs": [],
   "source": [
    "df_sudeste"
   ]
  },
  {
   "cell_type": "markdown",
   "id": "606ac3a0-c82c-4580-80b2-0c5af24e240b",
   "metadata": {},
   "source": [
    "<h1 style=\"color:purple;\">Explorando e entendendo a média de vendas total da Região Sudeste</h1>\n"
   ]
  },
  {
   "cell_type": "markdown",
   "id": "2d0edcff-3e1b-4417-ad6c-6403db355f92",
   "metadata": {},
   "source": [
    "<h1 style=\"color:purple;\">Dividindo o DF Sudeste em categórico e numérico</h1>\n"
   ]
  },
  {
   "cell_type": "code",
   "execution_count": null,
   "id": "336e69e3-fe41-4b48-9aa1-34cd6eeb5011",
   "metadata": {},
   "outputs": [],
   "source": [
    "df_categorico_sudeste = df_sudeste.select_dtypes(include=['object'])\n",
    "df_numerico_sudeste = df_sudeste.select_dtypes(include=['number'])"
   ]
  },
  {
   "cell_type": "markdown",
   "id": "46b7f512-b4b8-4c02-a317-51e2ccfdc088",
   "metadata": {},
   "source": [
    "<h1 style=\"color:purple;\">Sudeste - Categórico</h1>\n"
   ]
  },
  {
   "cell_type": "code",
   "execution_count": null,
   "id": "dc0759ba-1208-48b9-bc4c-c3c14b67bdad",
   "metadata": {},
   "outputs": [],
   "source": [
    "df_categorico_sudeste"
   ]
  },
  {
   "cell_type": "code",
   "execution_count": null,
   "id": "58f245de-a0ef-45e1-8796-ea592dd80132",
   "metadata": {},
   "outputs": [],
   "source": [
    "print(f'Sudeste  - Colunas do DataFrame Categórico:\\n\\n{df_categorico_sudeste.columns}')"
   ]
  },
  {
   "cell_type": "markdown",
   "id": "86da3042-5025-48da-8ba1-10ed85f4c37a",
   "metadata": {},
   "source": [
    "<h1 style=\"color:purple;\">Sudeste - Numérico</h1>\n"
   ]
  },
  {
   "cell_type": "code",
   "execution_count": null,
   "id": "852017cd-9390-4dae-8484-764dc0841fb9",
   "metadata": {},
   "outputs": [],
   "source": [
    "df_numerico_sudeste"
   ]
  },
  {
   "cell_type": "code",
   "execution_count": null,
   "id": "4f570842-826a-40ad-aca2-f4d1ca81f098",
   "metadata": {},
   "outputs": [],
   "source": [
    "print(f'Sudeste  - Colunas do DataFrame Numérico:\\n\\n{df_numerico_sudeste.columns}')"
   ]
  },
  {
   "cell_type": "markdown",
   "id": "0f77f703-cb28-4eca-8151-9a4f8b1c61b4",
   "metadata": {},
   "source": [
    "<h1 style=\"color:purple;\">Transformando variáveis categóricas</h1>\n"
   ]
  },
  {
   "cell_type": "markdown",
   "id": "d6e8d573-9d1b-4e2d-80f3-15061fa9ae62",
   "metadata": {},
   "source": [
    "<h1 style=\"color:purple;\">One-Hot Encoding para PRODUTO, GRANDE REGIÃO,UNIDADE DE FEDERAÇÃO, MÊS</h1>\n"
   ]
  },
  {
   "cell_type": "code",
   "execution_count": null,
   "id": "7431285b-a32c-4c3a-b85f-fe53b5541cfa",
   "metadata": {},
   "outputs": [],
   "source": [
    "# One-Hot Encoding para PRODUTO e outras categorias\n",
    "df_sudeste = df_sudeste.drop(columns=[\"GRANDE REGIÃO\"])\n",
    "\n",
    "df_sudeste = pd.get_dummies(df_sudeste  , columns=['PRODUTO'], drop_first=False)\n",
    "#df_sudeste = pd.get_dummies(df_sudeste , columns=['GRANDE REGIÃO'], drop_first=False)\n",
    "df_sudeste = pd.get_dummies(df_sudeste , columns=['UNIDADE DA FEDERAÇÃO'], drop_first=False)\n",
    "df_sudeste = pd.get_dummies(df_sudeste , columns=['MÊS'], drop_first=False)"
   ]
  },
  {
   "cell_type": "code",
   "execution_count": null,
   "id": "9f13ab6e-3b0e-46a9-9180-e3b8b587a4b8",
   "metadata": {},
   "outputs": [],
   "source": [
    "df_sudeste"
   ]
  },
  {
   "cell_type": "code",
   "execution_count": null,
   "id": "d3e47f1a-eac3-44a6-bc40-539a6b8fb497",
   "metadata": {},
   "outputs": [],
   "source": [
    "print(f'Sudeste  - Colunas transformadas:\\n\\n{df_sudeste.columns}')"
   ]
  },
  {
   "cell_type": "code",
   "execution_count": null,
   "id": "7e5892dd-d980-4660-952d-56262e6b3d25",
   "metadata": {},
   "outputs": [],
   "source": [
    "df_sudeste"
   ]
  },
  {
   "cell_type": "markdown",
   "id": "4313ee05-31bf-4db2-a4cd-649838ea4377",
   "metadata": {},
   "source": [
    "<h1 style=\"color:purple;\">Outliers</h1>\n"
   ]
  },
  {
   "cell_type": "code",
   "execution_count": null,
   "id": "6a6d57c7-514d-474e-8931-e6aa10a10251",
   "metadata": {},
   "outputs": [],
   "source": [
    "sns.boxplot(x=df_sudeste['VENDAS'])\n",
    "\n",
    "plt.title('Boxplot de Vendas - Região Sudeste')\n",
    "plt.xlabel('Vendas')\n",
    "plt.show()\n"
   ]
  },
  {
   "cell_type": "markdown",
   "id": "3a07ccd8-1eee-4421-ad6e-b02883022f19",
   "metadata": {},
   "source": [
    "<h1 style=\"color:purple;\">Removendo outliers utlizando o método IQR</h1>\n"
   ]
  },
  {
   "cell_type": "code",
   "execution_count": null,
   "id": "9bc0a73e-ee2a-473c-8cf9-088929bce108",
   "metadata": {},
   "outputs": [],
   "source": [
    "#Remoção de Outliers\n",
    "\n",
    "df_sudeste_sem_outliers = df_sudeste.copy()\n",
    "\n",
    "Q1 = df['VENDAS'].quantile(0.25)  \n",
    "Q3 = df['VENDAS'].quantile(0.75)  \n",
    "IQR = Q3 - Q1 \n",
    "\n",
    "\n",
    "limite_inferior = Q1 - 1.5 * IQR\n",
    "limite_superior = Q3 + 1.5 * IQR\n",
    "\n",
    "\n",
    "df_sudeste_sem_outliers = df_sudeste_sem_outliers[\n",
    "    (df_sudeste_sem_outliers['VENDAS'] >= limite_inferior) & \n",
    "    (df_sudeste_sem_outliers['VENDAS'] <= limite_superior)\n",
    "]\n",
    "\n",
    "# \n",
    "#print(\"Limite Inferior:\", limite_inferior)\n",
    "#print(\"Limite Superior:\", limite_superior)\n",
    "\n"
   ]
  },
  {
   "cell_type": "code",
   "execution_count": null,
   "id": "2111c0a2-8a31-4db3-87e0-c869e0f1be4c",
   "metadata": {},
   "outputs": [],
   "source": [
    "print(\"DataFrame sem outliers - Sudeste\")\n",
    "df_sudeste_sem_outliers #chamar df_sem_outliers caso precise"
   ]
  },
  {
   "cell_type": "code",
   "execution_count": null,
   "id": "2c43d19b-b5b7-46ee-9e47-9e8eade512df",
   "metadata": {},
   "outputs": [],
   "source": [
    "sns.boxplot(x=df_sudeste_sem_outliers['VENDAS'])\n",
    "\n",
    "plt.title('Boxplot de Vendas Após Remoção de Outliers- Região Sudeste')\n",
    "plt.xlabel('Vendas')\n",
    "plt.show()\n"
   ]
  },
  {
   "cell_type": "markdown",
   "id": "2c9e4c89-4c04-424e-96f4-0e3ed54468de",
   "metadata": {},
   "source": [
    "<h1 style=\"color:purple;\"> Calcular a matriz de correlação (sem gráfico)</h1>\n"
   ]
  },
  {
   "cell_type": "markdown",
   "id": "d73b422a-2673-4081-87c0-47770da68ff6",
   "metadata": {},
   "source": [
    "<h2 style=\"color:purple;\">Sem outliers - Correlação</h2>\n"
   ]
  },
  {
   "cell_type": "code",
   "execution_count": null,
   "id": "21d201e5-1fe4-47e3-bcd8-d3ac012e7148",
   "metadata": {},
   "outputs": [],
   "source": [
    "# Calcular a matriz de correlação SEM outliers\n",
    "corr_matrix = df_sudeste_sem_outliers.corr()\n",
    "\n",
    "print(\"Sudeste - Top 10 correlações com VENDAS (sem outliers):\\n\")\n",
    "print(corr_matrix['VENDAS'].sort_values(ascending=False).head(10))\n",
    "\n",
    "print(\"\\nSudeste - Top 10 correlações negativas com VENDAS(sem outliers):\")\n",
    "print(corr_matrix['VENDAS'].sort_values(ascending=False).tail(10))\n"
   ]
  },
  {
   "cell_type": "markdown",
   "id": "27937726-6665-4d4c-a3aa-d5d0d1ab13cb",
   "metadata": {},
   "source": [
    "<h2 style=\"color:purple;\">Com outliers - Correlação</h2>\n"
   ]
  },
  {
   "cell_type": "code",
   "execution_count": null,
   "id": "c0b1881d-47c5-418c-8322-651c29b6bf8e",
   "metadata": {},
   "outputs": [],
   "source": [
    "# Calcular a matriz de correlação Com outliers\n",
    "corr_matrix = df_sudeste.corr()\n",
    "\n",
    "print(\"Top 10 correlações com VENDAS (com outliers):\")\n",
    "print(corr_matrix['VENDAS'].sort_values(ascending=False).head(10))\n",
    "\n",
    "print(\"\\nTop 10 correlações negativas com VENDAS(com outliers):\")\n",
    "print(corr_matrix['VENDAS'].sort_values(ascending=False).tail(10))\n"
   ]
  },
  {
   "cell_type": "markdown",
   "id": "2e15fe0f-beb3-482a-af4c-cb03ac476d63",
   "metadata": {},
   "source": [
    "<h2 style=\"color:purple;\">Treinamento</h2>\n"
   ]
  },
  {
   "cell_type": "markdown",
   "id": "9c54bd02-fbeb-46e8-90c0-cb915bd4c8fa",
   "metadata": {},
   "source": [
    "<h2 style=\"color:purple;\">Regressão Linear</h2>\n"
   ]
  },
  {
   "cell_type": "code",
   "execution_count": null,
   "id": "ef55cac2-765e-407d-860f-33d3bd1dc922",
   "metadata": {},
   "outputs": [],
   "source": [
    "%%time\n",
    "\n",
    "# Variáveis com maior correlação \n",
    "#PRODUTO_GLP                            0.325491\n",
    "#PRODUTO_ÓLEO DIESEL                    0.273362\n",
    "#UNIDADE DA FEDERAÇÃO_RIO DE JANEIRO    0.234099\n",
    "#PRODUTO_GASOLINA C                     0.230837\n",
    "#PRODUTO_ETANOL HIDRATADO               0.172300\n",
    "\n",
    "X = df_sudeste_sem_outliers[['PRODUTO_GLP', \n",
    "        'PRODUTO_ÓLEO DIESEL', \n",
    "        'UNIDADE DA FEDERAÇÃO_RIO DE JANEIRO', \n",
    "        'PRODUTO_GASOLINA C',  \n",
    "        'PRODUTO_ETANOL HIDRATADO']]  \n",
    "\n",
    "\n",
    "y = df_sudeste_sem_outliers['VENDAS']\n",
    "\n",
    "X_train, X_test, y_train, y_test = train_test_split(X, y, test_size=0.2, random_state=42)\n",
    "\n",
    "model = LinearRegression()\n",
    "model.fit(X_train, y_train)\n",
    "\n",
    "predicao = model.predict(X_test)\n",
    "\n",
    "mse = mean_squared_error(y_test, predicao)\n",
    "r2 = r2_score(y_test, predicao)\n",
    "rmse = np.sqrt(mse)\n",
    "mae = mean_absolute_error(y_test, predicao)\n",
    "\n",
    "print(\"\\nSudeste - Regressão Linear - Métricas sem outliers\\n\")\n",
    "print(f'Erro Quadrático Médio (MSE): {mse}')\n",
    "print(f'Coeficiente de Determinação (R²): {r2:.2f} -> {r2 * 100:.2f}%')\n",
    "print(f'Root Mean Squared Error (RMSE): {rmse:.2f}')\n",
    "print(f'Mean Absolute Error (MAE): {mae:.2f}\\n')\n",
    "\n",
    "print(f'Tempo decorrido:')\n",
    "\n",
    "\n",
    "#print(f\"Tamanho de predicao: {len(predicao)}\")\n",
    "#print(f\"Tamanho de y_test: {len(y_test)}\")"
   ]
  },
  {
   "cell_type": "markdown",
   "id": "66efcd2e-342a-437a-a1ad-090943bf4d44",
   "metadata": {},
   "source": [
    "<h2 style=\"color:purple;\">Árvore Decisão</h2>\n"
   ]
  },
  {
   "cell_type": "code",
   "execution_count": null,
   "id": "b0b4841d-a64a-4de9-b9e8-41318d7eb8bc",
   "metadata": {},
   "outputs": [],
   "source": [
    "%%time\n",
    "#árvore de decisão\n",
    "X = df_sudeste_sem_outliers.drop(columns=['VENDAS']) \n",
    "y = df_sudeste_sem_outliers['VENDAS']\n",
    "\n",
    "X_train, X_test, y_train, y_test = train_test_split(X, y, test_size=0.3, random_state=42)\n",
    "\n",
    "dtree = DecisionTreeRegressor(criterion='squared_error')\n",
    "dtree.fit(X_train, y_train)\n",
    "\n",
    "predicao = dtree.predict(X_test)\n",
    "\n",
    "\n",
    "mse = mean_squared_error(y_test, predicao)\n",
    "rmse = np.sqrt(mse)\n",
    "mae = mean_absolute_error(y_test, predicao)\n",
    "r2 = r2_score(y_test, predicao)\n",
    "\n",
    "print(f\"Sudeste - Árvore de decisão - Sem Outliers:\\n\")\n",
    "\n",
    "print(f\"Erro Quadrático Médio (MSE): {mse:.2f}\")\n",
    "print(f\"Root Mean Squared Error (RMSE): {rmse:.2f}\")\n",
    "print(f\"Mean Absolute Error (MAE): {mae:.2f}\")\n",
    "print(f\"Coeficiente de Determinação (R²): {r2:.2f} -> {r2 * 100:.2f}%\\n\")\n",
    "print(f\"Tempo decorrido:\\n\")\n",
    "\n",
    "\n",
    "#print(f\"Tamanho de predicao: {len(predicao)}\")\n",
    "#print(f\"Tamanho de y_test: {len(y_test)}\")\n",
    "\n"
   ]
  },
  {
   "cell_type": "markdown",
   "id": "1ec3a515-654b-4c54-809e-c58029eb4063",
   "metadata": {},
   "source": [
    "<h2 style=\"color:purple;\">Floresta Aleatória</h2>\n"
   ]
  },
  {
   "cell_type": "code",
   "execution_count": null,
   "id": "749c3e88-92c8-4d82-8f02-dc3d1ba1afa7",
   "metadata": {},
   "outputs": [],
   "source": [
    "%%time\n",
    "# Floresta Aleatória\n",
    "X = df_sudeste_sem_outliers.drop(columns=['VENDAS']) \n",
    "y = df_sudeste_sem_outliers['VENDAS']\n",
    "\n",
    "X_train, X_test, y_train, y_test = train_test_split(X, y, test_size=0.3, random_state=42)\n",
    "\n",
    "rfc = RandomForestRegressor(n_estimators=100)\n",
    "rfc.fit(X_train, y_train)\n",
    "\n",
    "rfc_predicao = rfc.predict(X_test)\n",
    "\n",
    "mse = mean_squared_error(y_test, rfc_predicao)\n",
    "rmse = np.sqrt(mse)\n",
    "mae = mean_absolute_error(y_test, rfc_predicao)\n",
    "r2 = r2_score(y_test, rfc_predicao)\n",
    "\n",
    "print(f\"Sudeste - Floresta Aleatória - Sem Outliers:\\n\")\n",
    "print(f\"Erro Quadrático Médio (MSE): {mse:.2f}\")\n",
    "print(f\"Root Mean Squared Error (RMSE): {rmse:.2f}\")\n",
    "print(f\"Mean Absolute Error (MAE): {mae:.2f}\")\n",
    "print(f\"Coeficiente de Determinação (R²): {r2:.2f} -> {r2 * 100:.2f}%\\n\")\n",
    "print(f\"Tempo decorrido:\\n\")\n",
    "\n",
    "#print(f\"Tamanho de rfc_predicao: {len(rfc_predicao)}\")\n",
    "#print(f\"Tamanho de y_test: {len(y_test)}\")"
   ]
  },
  {
   "cell_type": "markdown",
   "id": "6f1c80e2-9d62-4a14-bc57-784c79447ee9",
   "metadata": {},
   "source": [
    "<h1 style=\"color:purple;\">Floresta Aleatória</h1>\n"
   ]
  },
  {
   "cell_type": "code",
   "execution_count": null,
   "id": "63f1025a-f7b1-4cf3-ab9f-a4bb75ae034f",
   "metadata": {},
   "outputs": [],
   "source": [
    "%%time\n",
    "# Floresta Aleatória\n",
    "X = df_sudeste_sem_outliers.drop(columns=['VENDAS']) \n",
    "y = df_sudeste_sem_outliers['VENDAS']\n",
    "\n",
    "X_train, X_test, y_train, y_test = train_test_split(X, y, test_size=0.3, random_state=42)\n",
    "\n",
    "rfc = RandomForestRegressor(n_estimators=100)\n",
    "rfc.fit(X_train, y_train)\n",
    "\n",
    "rfc_predicao = rfc.predict(X_test)\n",
    "\n",
    "mse = mean_squared_error(y_test, rfc_predicao)\n",
    "rmse = np.sqrt(mse)\n",
    "mae = mean_absolute_error(y_test, rfc_predicao)\n",
    "r2 = r2_score(y_test, rfc_predicao)\n",
    "\n",
    "print(f\"Sudeste - Floresta Aleatória - Sem Outliers:\\n\")\n",
    "print(f\"Erro Quadrático Médio (MSE): {mse:.2f}\")\n",
    "print(f\"Root Mean Squared Error (RMSE): {rmse:.2f}\")\n",
    "print(f\"Mean Absolute Error (MAE): {mae:.2f}\")\n",
    "print(f\"Coeficiente de Determinação (R²): {r2:.2f} -> {r2 * 100:.2f}%\\n\")\n",
    "print(f\"Tempo decorrido:\\n\")\n",
    "\n",
    "#print(f\"Tamanho de rfc_predicao: {len(rfc_predicao)}\")\n",
    "#print(f\"Tamanho de y_test: {len(y_test)}\")"
   ]
  },
  {
   "cell_type": "markdown",
   "id": "b58db44c-910c-455b-ad01-364f2c433bb5",
   "metadata": {},
   "source": [
    "<h1 style=\"color:purple;\">Gradient Boosting Regressor</h1>\n",
    "<p style=\"color:black;\">Os parâmetros do modelo foram ajustados para <strong>n_estimators=200</strong> e <strong>max_depth=6</strong>, a fim de alcançar uma melhor performance, reduzindo os erros de previsão e aumentando a precisão do modelo.</p>\n"
   ]
  },
  {
   "cell_type": "code",
   "execution_count": null,
   "id": "fbc8ae8a-cae8-4d3a-a176-72f7ba2ea7da",
   "metadata": {},
   "outputs": [],
   "source": [
    "%%time\n",
    "\n",
    "X = df_sudeste_sem_outliers.drop(columns=['VENDAS']) \n",
    "y = df_sudeste_sem_outliers['VENDAS']\n",
    "\n",
    "X_train, X_test, y_train, y_test = train_test_split(X, y, test_size=0.3, random_state=42)\n",
    "\n",
    "gbr = GradientBoostingRegressor(n_estimators=200, learning_rate=0.1, max_depth=6, random_state=42)\n",
    "\n",
    "gbr.fit(X_train, y_train)\n",
    "\n",
    "gbr_predicao = gbr.predict(X_test)\n",
    "\n",
    "mse = mean_squared_error(y_test, gbr_predicao)\n",
    "rmse = np.sqrt(mse)\n",
    "mae = mean_absolute_error(y_test, gbr_predicao)\n",
    "r2 = r2_score(y_test, gbr_predicao)\n",
    "\n",
    "print(f\"Sudeste - Gradient Boosting - Sem Outliers:\\n\")\n",
    "print(f\"Erro Quadrático Médio (MSE): {mse:.2f}\")\n",
    "print(f\"Root Mean Squared Error (RMSE): {rmse:.2f}\")\n",
    "print(f\"Mean Absolute Error (MAE): {mae:.2f}\")\n",
    "print(f\"Coeficiente de Determinação (R²): {r2:.2f} -> {r2 * 100:.2f}%\\n\")\n"
   ]
  },
  {
   "cell_type": "markdown",
   "id": "6b6cbad4-f7ed-4f75-a203-294beed1122a",
   "metadata": {},
   "source": [
    "<h1 style=\"color:purple;\">Ada Boost</h1>\n",
    "<p style=\"color:black;\">\n",
    "O AdaBoost, por padrão, usa árvores de decisão bem simples, com profundidade máxima (<strong>max_depth</strong>) de apenas <strong>1</strong>. Isso acaba sendo um problema para o nosso dataset, porque ele não consegue capturar padrões mais complexos. Para melhorar, seria necessário ajustar o modelo base, mas mesmo assim o AdaBoost pode não ser a melhor escolha para esse caso.</p>\n"
   ]
  },
  {
   "cell_type": "code",
   "execution_count": null,
   "id": "06bdfc88-58ae-424d-bf69-9988c17273a4",
   "metadata": {},
   "outputs": [],
   "source": [
    "%%time\n",
    "\n",
    "X = df_sudeste_sem_outliers.drop(columns=['VENDAS']) \n",
    "y = df_sudeste_sem_outliers['VENDAS']\n",
    "\n",
    "X_train, X_test, y_train, y_test = train_test_split(X, y, test_size=0.3, random_state=42)\n",
    "\n",
    "adaboost = AdaBoostRegressor(n_estimators=200, learning_rate=0.1, random_state=42)\n",
    "\n",
    "adaboost.fit(X_train, y_train)\n",
    "\n",
    "adaboost_predicao = adaboost.predict(X_test)\n",
    "\n",
    "mse = mean_squared_error(y_test, adaboost_predicao)\n",
    "rmse = np.sqrt(mse)\n",
    "mae = mean_absolute_error(y_test, adaboost_predicao)\n",
    "r2 = r2_score(y_test, adaboost_predicao)\n",
    "\n",
    "print(f\"Sudeste - AdaBoost - Sem Outliers:\\n\")\n",
    "print(f\"Erro Quadrático Médio (MSE): {mse:.2f}\")\n",
    "print(f\"Root Mean Squared Error (RMSE): {rmse:.2f}\")\n",
    "print(f\"Mean Absolute Error (MAE): {mae:.2f}\")\n",
    "print(f\"Coeficiente de Determinação (R²): {r2:.2f} -> {r2 * 100:.2f}%\\n\")\n",
    "print(f\"Tempo decorrido:\\n\")\n",
    "\n"
   ]
  },
  {
   "cell_type": "markdown",
   "id": "b236b440-02b5-45e3-ad6f-66c7d4993a7d",
   "metadata": {},
   "source": [
    "<h1 style=\"color:purple;\">Bagging Regressor</h1>\n"
   ]
  },
  {
   "cell_type": "code",
   "execution_count": null,
   "id": "4554724c-bb50-4e89-9d84-d622b2971128",
   "metadata": {},
   "outputs": [],
   "source": [
    "%%time\n",
    "#BaggingRegressor\n",
    "\n",
    "X = df_sudeste_sem_outliers.drop(columns=['VENDAS']) \n",
    "y = df_sudeste_sem_outliers['VENDAS']\n",
    "\n",
    "X_train, X_test, y_train, y_test = train_test_split(X, y, test_size=0.3, random_state=42)\n",
    "\n",
    "# dependendo da versão do sklearn, ao inves de ser base estimator é só estimator\n",
    "bagging = BaggingRegressor(estimator=DecisionTreeRegressor(criterion='squared_error'), \n",
    "                           n_estimators=100, \n",
    "                           random_state=42)\n",
    "\n",
    "bagging.fit(X_train, y_train)\n",
    "\n",
    "predicao = bagging.predict(X_test)\n",
    "\n",
    "mse = mean_squared_error(y_test, predicao)\n",
    "rmse = np.sqrt(mse)\n",
    "mae = mean_absolute_error(y_test, predicao)\n",
    "r2 = r2_score(y_test, predicao)\n",
    "\n",
    "print(f\"Região Sudeste - Bagging Regressor - Sem Outliers:\\n\")\n",
    "print(f\"Erro Quadrático Médio (MSE): {mse:.2f}\")\n",
    "print(f\"Root Mean Squared Error (RMSE): {rmse:.2f}\")\n",
    "print(f\"Mean Absolute Error (MAE): {mae:.2f}\")\n",
    "print(f\"Coeficiente de Determinação (R²): {r2:.2f} -> {r2 * 100:.2f}%\\n\")\n",
    "print(f\"Tempo decorrido:\\n\")\n",
    "\n"
   ]
  },
  {
   "cell_type": "markdown",
   "id": "52d80d4f-ac5c-4d53-8f22-116999b681cf",
   "metadata": {},
   "source": [
    "<h1 style=\"color:purple;\">KNN</h1>\n"
   ]
  },
  {
   "cell_type": "code",
   "execution_count": null,
   "id": "4b2e5a36-51d0-4c8b-9820-97327a21a9e3",
   "metadata": {},
   "outputs": [],
   "source": [
    "%%time\n",
    "#KNN\n",
    "X = df_sudeste_sem_outliers.drop(columns=['VENDAS']) \n",
    "y = df_sudeste_sem_outliers['VENDAS']  \n",
    "\n",
    "X_train, X_test, y_train, y_test = train_test_split(X, y, test_size=0.3, random_state=42)\n",
    "\n",
    "knn_regressor = KNeighborsRegressor(n_neighbors=5)  # Usando 5 vizinhos como padrão\n",
    "\n",
    "knn_regressor.fit(X_train, y_train)\n",
    "\n",
    "predicao = knn_regressor.predict(X_test)\n",
    "\n",
    "mse = mean_squared_error(y_test, predicao)\n",
    "mae = mean_absolute_error(y_test, predicao)\n",
    "r2 = r2_score(y_test, predicao)\n",
    "print(f\"Região Sudeste - KNN - Sem Outliers:\\n\")\n",
    "print(f\"Erro Quadrático Médio (MSE): {mse:.2f}\")\n",
    "print(f\"Root Mean Squared Error (RMSE): {rmse:.2f}\")\n",
    "print(f\"Mean Absolute Error (MAE): {mae:.2f}\")\n",
    "print(f\"Coeficiente de Determinação (R²): {r2:.2f} -> {r2 * 100:.2f}%\\n\")\n",
    "print(f\"Tempo decorrido:\\n\")\n",
    "\n",
    "\n"
   ]
  },
  {
   "cell_type": "code",
   "execution_count": null,
   "id": "41490350-de10-4352-a0cb-fcf8d1ebfb34",
   "metadata": {},
   "outputs": [],
   "source": []
  },
  {
   "cell_type": "code",
   "execution_count": null,
   "id": "4c36ce39-df82-420a-b177-4cf51ba1f459",
   "metadata": {},
   "outputs": [],
   "source": []
  },
  {
   "cell_type": "code",
   "execution_count": null,
   "id": "00be494e-6f42-4f1c-b5c6-32aca94a5a4e",
   "metadata": {},
   "outputs": [],
   "source": []
  },
  {
   "cell_type": "markdown",
   "id": "d15e619d-c43d-42b6-bbe9-90f630607999",
   "metadata": {},
   "source": [
    "<h1 style=\"color:orange;\">Pré- processamento - Região Nordeste</h1>\n"
   ]
  },
  {
   "cell_type": "code",
   "execution_count": null,
   "id": "6c0927c8-9cfe-437e-8c2c-a7f4288fd8f1",
   "metadata": {},
   "outputs": [],
   "source": [
    "media_vendas_nordeste = df_nordeste['VENDAS'].mean()\n",
    "\n",
    "print(f\"Média de vendas na Região Nordeste: {media_vendas_nordeste:.2f} m³\")\n"
   ]
  },
  {
   "cell_type": "code",
   "execution_count": null,
   "id": "47d48c55-e7b2-4f0c-926a-d9e8e38c009c",
   "metadata": {},
   "outputs": [],
   "source": [
    "df_nordeste"
   ]
  },
  {
   "cell_type": "markdown",
   "id": "732af1df-ba22-4d67-969b-9b7cb14e66fd",
   "metadata": {},
   "source": [
    "<h1 style=\"color:orange;\">Dividindo o DF Nordeste em categórico e numérico</h1>\n"
   ]
  },
  {
   "cell_type": "code",
   "execution_count": null,
   "id": "a5d6ff0a-1f7d-42fa-862f-37919a91c1bf",
   "metadata": {},
   "outputs": [],
   "source": [
    "df_categorico_nordeste = df_nordeste.select_dtypes(include=['object'])\n",
    "df_numerico_nordeste= df_nordeste.select_dtypes(include=['number'])"
   ]
  },
  {
   "cell_type": "markdown",
   "id": "48062e27-8d87-44c9-a639-b6fa7078561b",
   "metadata": {},
   "source": [
    "<h1 style=\"color:orange;\">Nordeste - Categórico</h1>\n"
   ]
  },
  {
   "cell_type": "code",
   "execution_count": null,
   "id": "4b268c3d-8a24-42eb-a2c5-3e7367327005",
   "metadata": {},
   "outputs": [],
   "source": [
    "df_categorico_nordeste"
   ]
  },
  {
   "cell_type": "code",
   "execution_count": null,
   "id": "edd0190d-723c-40fa-b78e-27bfb8ebf46e",
   "metadata": {},
   "outputs": [],
   "source": [
    "print(f'Nordeste  - Colunas do DataFrame Categórico:\\n\\n{df_categorico_nordeste.columns}')"
   ]
  },
  {
   "cell_type": "markdown",
   "id": "c5582b16-c38f-4021-8560-bf4e3c235785",
   "metadata": {},
   "source": [
    "<h1 style=\"color:orange;\">Nordeste - Numérico</h1>\n"
   ]
  },
  {
   "cell_type": "code",
   "execution_count": null,
   "id": "1b16333f-8af9-47d0-a429-b023b9f38c3a",
   "metadata": {},
   "outputs": [],
   "source": [
    "df_numerico_nordeste"
   ]
  },
  {
   "cell_type": "code",
   "execution_count": null,
   "id": "01484598-e9ce-4b1c-ba91-4998ebc0abcb",
   "metadata": {},
   "outputs": [],
   "source": [
    "print(f'Nordeste  - Colunas do DataFrame Numérico:\\n\\n{df_numerico_nordeste.columns}')"
   ]
  },
  {
   "cell_type": "markdown",
   "id": "9b9cc83f-f381-4ac5-8994-5f41ced32597",
   "metadata": {},
   "source": [
    "<h1 style=\"color:orange;\">Transformando variáveis categóricas</h1>\n"
   ]
  },
  {
   "cell_type": "markdown",
   "id": "7930caa6-1476-4e48-913b-44efdd5d10ab",
   "metadata": {},
   "source": [
    "<h1 style=\"color:orange;\">One-Hot Encoding para PRODUTO, GRANDE REGIÃO,UNIDADE DE FEDERAÇÃO, MÊS</h1>\n"
   ]
  },
  {
   "cell_type": "code",
   "execution_count": null,
   "id": "e34e8755-1365-46ec-aaa7-e26576df9b5e",
   "metadata": {},
   "outputs": [],
   "source": [
    "# One-Hot Encoding para PRODUTO e outras categorias\n",
    "df_nordeste = df_nordeste.drop(columns=[\"GRANDE REGIÃO\"])\n",
    "\n",
    "df_nordeste = pd.get_dummies(df_nordeste  , columns=['PRODUTO'], drop_first=False)\n",
    "#df_nordeste = pd.get_dummies(df_nordestee , columns=['GRANDE REGIÃO'], drop_first=False)\n",
    "df_nordeste = pd.get_dummies(df_nordeste , columns=['UNIDADE DA FEDERAÇÃO'], drop_first=False)\n",
    "df_nordeste = pd.get_dummies(df_nordeste , columns=['MÊS'], drop_first=False)"
   ]
  },
  {
   "cell_type": "code",
   "execution_count": null,
   "id": "7af88390-3029-4c3b-9444-aed3ea79d6e5",
   "metadata": {},
   "outputs": [],
   "source": [
    "df_nordeste"
   ]
  },
  {
   "cell_type": "code",
   "execution_count": null,
   "id": "761202f5-f997-40b8-877f-54825752295b",
   "metadata": {},
   "outputs": [],
   "source": [
    "print(f'Nordeste  - Colunas transformadas:\\n\\n{df_nordeste.columns}')"
   ]
  },
  {
   "cell_type": "markdown",
   "id": "200e7992-4109-4407-8be9-82fc72a16e63",
   "metadata": {},
   "source": [
    "<h1 style=\"color:orange;\">Outliers</h1>\n"
   ]
  },
  {
   "cell_type": "code",
   "execution_count": null,
   "id": "a88a329a-de41-4a59-b800-f2b0915ab912",
   "metadata": {},
   "outputs": [],
   "source": [
    "sns.boxplot(x=df_nordeste['VENDAS'])\n",
    "\n",
    "plt.title('Boxplot de Vendas - Região Nordeste')\n",
    "plt.xlabel('Vendas')\n",
    "plt.show()\n"
   ]
  },
  {
   "cell_type": "markdown",
   "id": "4131f6f8-2f52-43ab-9fd4-e5be2981a11e",
   "metadata": {},
   "source": [
    "<h1 style=\"color:orange;\">Removendo outliers utlizando o método IQR</h1>\n"
   ]
  },
  {
   "cell_type": "code",
   "execution_count": null,
   "id": "4710b045-ddd7-4396-9a42-051d5349d823",
   "metadata": {},
   "outputs": [],
   "source": [
    "#Remoção de Outliers\n",
    "\n",
    "df_nordeste_sem_outliers = df_nordeste.copy()\n",
    "\n",
    "Q1 = df['VENDAS'].quantile(0.25)  \n",
    "Q3 = df['VENDAS'].quantile(0.75)  \n",
    "IQR = Q3 - Q1 \n",
    "\n",
    "\n",
    "limite_inferior = Q1 - 1.5 * IQR\n",
    "limite_superior = Q3 + 1.5 * IQR\n",
    "\n",
    "\n",
    "df_nordeste_sem_outliers = df_nordeste_sem_outliers[\n",
    "    (df_nordeste_sem_outliers['VENDAS'] >= limite_inferior) & \n",
    "    (df_nordeste_sem_outliers['VENDAS'] <= limite_superior)\n",
    "]\n",
    "\n",
    "# \n",
    "#print(\"Limite Inferior:\", limite_inferior)\n",
    "#print(\"Limite Superior:\", limite_superior)\n",
    "\n"
   ]
  },
  {
   "cell_type": "code",
   "execution_count": null,
   "id": "da7a25fa-c77d-40b0-bac3-06058fda9a58",
   "metadata": {},
   "outputs": [],
   "source": [
    "print(\"DataFrame sem outliers - Nordeste\")\n",
    "df_nordeste_sem_outliers #chamar df_sem_outliers caso precise"
   ]
  },
  {
   "cell_type": "code",
   "execution_count": null,
   "id": "fd18120a-fd38-4c7c-85e0-2f3d2ee937bf",
   "metadata": {},
   "outputs": [],
   "source": [
    "sns.boxplot(x=df_nordeste_sem_outliers['VENDAS'])\n",
    "\n",
    "plt.title('Boxplot de Vendas Após Remoção de Outliers- Região Nordeste')\n",
    "plt.xlabel('Vendas')\n",
    "plt.show()\n"
   ]
  },
  {
   "cell_type": "markdown",
   "id": "81b1e052-a031-4990-9ed6-384c446538ac",
   "metadata": {},
   "source": [
    "<h1 style=\"color:orange;\"> Calcular a matriz de correlação (sem gráfico)</h1>\n"
   ]
  },
  {
   "cell_type": "markdown",
   "id": "dff0b501-3276-4906-9e44-777095d2517d",
   "metadata": {},
   "source": [
    "<h2 style=\"color:orange;\">Sem outliers - Correlação</h2>\n"
   ]
  },
  {
   "cell_type": "code",
   "execution_count": null,
   "id": "dbf246c1-6504-478d-a271-8b7871ef5143",
   "metadata": {},
   "outputs": [],
   "source": [
    "# Calcular a matriz de correlação SEM outliers\n",
    "corr_matrix = df_nordeste_sem_outliers.corr()\n",
    "\n",
    "print(\"Nordeste - Top 10 correlações com VENDAS (sem outliers):\\n\")\n",
    "print(corr_matrix['VENDAS'].sort_values(ascending=False).head(10))\n",
    "\n",
    "print(\"\\nNordeste - Top 10 correlações negativas com VENDAS(sem outliers):\")\n",
    "print(corr_matrix['VENDAS'].sort_values(ascending=False).tail(10))\n"
   ]
  },
  {
   "cell_type": "markdown",
   "id": "826ac514-24e8-41c9-bb06-c6606a7ca982",
   "metadata": {},
   "source": [
    "<h2 style=\"color:orange;\">Com outliers - Correlação</h2>\n"
   ]
  },
  {
   "cell_type": "code",
   "execution_count": null,
   "id": "28b6804a-5fcf-4ca2-8253-07dc03874dc3",
   "metadata": {},
   "outputs": [],
   "source": [
    "# Calcular a matriz de correlação SEM outliers\n",
    "corr_matrix = df_nordeste.corr()\n",
    "\n",
    "print(\"Top 10 correlações com VENDAS (com outliers):\")\n",
    "print(corr_matrix['VENDAS'].sort_values(ascending=False).head(10))\n",
    "\n",
    "print(\"\\nTop 10 correlações negativas com VENDAS(com outliers):\")\n",
    "print(corr_matrix['VENDAS'].sort_values(ascending=False).tail(10))\n"
   ]
  },
  {
   "cell_type": "markdown",
   "id": "ef5f0c76-55ea-49de-8af4-adec4e86ce79",
   "metadata": {},
   "source": [
    "<h2 style=\"color:orange;\">Treinamento</h2>\n"
   ]
  },
  {
   "cell_type": "markdown",
   "id": "fb5224e6-b4ba-40d7-8aed-1a18bfa9c459",
   "metadata": {},
   "source": [
    "<h2 style=\"color:orange;\">Regressão Linear</h2>\n"
   ]
  },
  {
   "cell_type": "code",
   "execution_count": null,
   "id": "562196b9-0a03-499e-86b0-b64cb658c24e",
   "metadata": {},
   "outputs": [],
   "source": [
    "%%time\n",
    "\n",
    "# Variáveis com maior correlação - Nordeste \n",
    "#PRODUTO_ÓLEO DIESEL                0.394997\n",
    "#PRODUTO_GASOLINA C                 0.356973\n",
    "#UNIDADE DA FEDERAÇÃO_BAHIA         0.238015\n",
    "#PRODUTO_GLP                        0.222259\n",
    "\n",
    "X = df_nordeste_sem_outliers[['PRODUTO_ÓLEO DIESEL', \n",
    "        'PRODUTO_GASOLINA C', \n",
    "        'UNIDADE DA FEDERAÇÃO_BAHIA', \n",
    "        'PRODUTO_GLP']]  \n",
    "\n",
    "\n",
    "y = df_nordeste_sem_outliers['VENDAS']\n",
    "\n",
    "X_train, X_test, y_train, y_test = train_test_split(X, y, test_size=0.2, random_state=42)\n",
    "\n",
    "model = LinearRegression()\n",
    "model.fit(X_train, y_train)\n",
    "\n",
    "predicao = model.predict(X_test)\n",
    "\n",
    "mse = mean_squared_error(y_test, predicao)\n",
    "r2 = r2_score(y_test, predicao)\n",
    "rmse = np.sqrt(mse)\n",
    "mae = mean_absolute_error(y_test, predicao)\n",
    "\n",
    "print(\"\\nNordeste - Regressão Linear - Métricas sem outliers\\n\")\n",
    "print(f'Erro Quadrático Médio (MSE): {mse}')\n",
    "print(f'Coeficiente de Determinação (R²): {r2:.2f} -> {r2 * 100:.2f}%')\n",
    "print(f'Root Mean Squared Error (RMSE): {rmse:.2f}')\n",
    "print(f'Mean Absolute Error (MAE): {mae:.2f}\\n')\n",
    "\n",
    "print(f'Tempo decorrido:')\n",
    "\n",
    "\n",
    "#print(f\"Tamanho de predicao: {len(predicao)}\")\n",
    "#print(f\"Tamanho de y_test: {len(y_test)}\")"
   ]
  },
  {
   "cell_type": "markdown",
   "id": "bc40816e-fda2-4b2f-b17a-c904dc67094e",
   "metadata": {},
   "source": [
    "<h2 style=\"color:orange;\">Árvore Decisão</h2>\n"
   ]
  },
  {
   "cell_type": "code",
   "execution_count": null,
   "id": "d7032c1e-2736-4812-8595-2735dc0893a0",
   "metadata": {},
   "outputs": [],
   "source": [
    "%%time\n",
    "#árvore de decisão\n",
    "X = df_nordeste_sem_outliers.drop(columns=['VENDAS']) \n",
    "y = df_nordeste_sem_outliers['VENDAS']\n",
    "\n",
    "X_train, X_test, y_train, y_test = train_test_split(X, y, test_size=0.3, random_state=42)\n",
    "\n",
    "dtree = DecisionTreeRegressor(criterion='squared_error')\n",
    "dtree.fit(X_train, y_train)\n",
    "\n",
    "predicao = dtree.predict(X_test)\n",
    "\n",
    "\n",
    "mse = mean_squared_error(y_test, predicao)\n",
    "rmse = np.sqrt(mse)\n",
    "mae = mean_absolute_error(y_test, predicao)\n",
    "r2 = r2_score(y_test, predicao)\n",
    "\n",
    "print(f\"Nordeste - Árvore de decisão - Sem Outliers:\\n\")\n",
    "\n",
    "print(f\"Erro Quadrático Médio (MSE): {mse:.2f}\")\n",
    "print(f\"Root Mean Squared Error (RMSE): {rmse:.2f}\")\n",
    "print(f\"Mean Absolute Error (MAE): {mae:.2f}\")\n",
    "print(f\"Coeficiente de Determinação (R²): {r2:.2f} -> {r2 * 100:.2f}%\\n\")\n",
    "print(f\"Tempo decorrido:\\n\")\n",
    "\n",
    "\n",
    "#print(f\"Tamanho de predicao: {len(predicao)}\")\n",
    "#print(f\"Tamanho de y_test: {len(y_test)}\")\n",
    "\n"
   ]
  },
  {
   "cell_type": "markdown",
   "id": "d199277f-9680-468c-95ef-0fbdca3f2e04",
   "metadata": {},
   "source": [
    "<h2 style=\"color:orange;\">Floresta Aleatória</h2>\n"
   ]
  },
  {
   "cell_type": "code",
   "execution_count": null,
   "id": "e5233549-76b7-4618-93a6-ecbc1e46bba4",
   "metadata": {},
   "outputs": [],
   "source": [
    "%%time\n",
    "# Floresta Aleatória\n",
    "X = df_nordeste_sem_outliers.drop(columns=['VENDAS']) \n",
    "y = df_nordeste_sem_outliers['VENDAS']\n",
    "\n",
    "X_train, X_test, y_train, y_test = train_test_split(X, y, test_size=0.3, random_state=42)\n",
    "\n",
    "rfc = RandomForestRegressor(n_estimators=100)\n",
    "rfc.fit(X_train, y_train)\n",
    "\n",
    "rfc_predicao = rfc.predict(X_test)\n",
    "\n",
    "mse = mean_squared_error(y_test, rfc_predicao)\n",
    "rmse = np.sqrt(mse)\n",
    "mae = mean_absolute_error(y_test, rfc_predicao)\n",
    "r2 = r2_score(y_test, rfc_predicao)\n",
    "\n",
    "print(f\"Nordeste - Floresta Aleatória - Sem Outliers:\\n\")\n",
    "print(f\"Erro Quadrático Médio (MSE): {mse:.2f}\")\n",
    "print(f\"Root Mean Squared Error (RMSE): {rmse:.2f}\")\n",
    "print(f\"Mean Absolute Error (MAE): {mae:.2f}\")\n",
    "print(f\"Coeficiente de Determinação (R²): {r2:.2f} -> {r2 * 100:.2f}%\\n\")\n",
    "print(f\"Tempo decorrido:\\n\")\n",
    "\n",
    "#print(f\"Tamanho de rfc_predicao: {len(rfc_predicao)}\")\n",
    "#print(f\"Tamanho de y_test: {len(y_test)}\")"
   ]
  },
  {
   "cell_type": "markdown",
   "id": "6853e0a9-8b2c-4df4-b7c3-bb882f433537",
   "metadata": {},
   "source": [
    "<h1 style=\"color:orange;\">Gradient Boosting Regressor</h1>\n"
   ]
  },
  {
   "cell_type": "code",
   "execution_count": null,
   "id": "cec9e49f-b70e-4abf-a10a-108d61b85433",
   "metadata": {},
   "outputs": [],
   "source": [
    "%%time\n",
    "\n",
    "X = df_nordeste_sem_outliers.drop(columns=['VENDAS']) \n",
    "y = df_nordeste_sem_outliers['VENDAS']\n",
    "\n",
    "X_train, X_test, y_train, y_test = train_test_split(X, y, test_size=0.3, random_state=42)\n",
    "\n",
    "gbr = GradientBoostingRegressor(n_estimators=200, learning_rate=0.1, max_depth=6, random_state=42)\n",
    "\n",
    "gbr.fit(X_train, y_train)\n",
    "\n",
    "gbr_predicao = gbr.predict(X_test)\n",
    "\n",
    "mse = mean_squared_error(y_test, gbr_predicao)\n",
    "rmse = np.sqrt(mse)\n",
    "mae = mean_absolute_error(y_test, gbr_predicao)\n",
    "r2 = r2_score(y_test, gbr_predicao)\n",
    "\n",
    "print(f\"Nordeste - Gradient Boosting - Sem Outliers:\\n\")\n",
    "print(f\"Erro Quadrático Médio (MSE): {mse:.2f}\")\n",
    "print(f\"Root Mean Squared Error (RMSE): {rmse:.2f}\")\n",
    "print(f\"Mean Absolute Error (MAE): {mae:.2f}\")\n",
    "print(f\"Coeficiente de Determinação (R²): {r2:.2f} -> {r2 * 100:.2f}%\\n\")\n"
   ]
  },
  {
   "cell_type": "markdown",
   "id": "cbc47347-bdf1-4117-b9c5-ceb0906bca86",
   "metadata": {},
   "source": [
    "<h1 style=\"color:orange;\">Ada Boost</h1>\n"
   ]
  },
  {
   "cell_type": "code",
   "execution_count": null,
   "id": "9f20299b-3ce7-4af9-ac0d-425c1c36d7d7",
   "metadata": {},
   "outputs": [],
   "source": [
    "%%time\n",
    "\n",
    "X = df_nordeste_sem_outliers.drop(columns=['VENDAS']) \n",
    "y = df_nordeste_sem_outliers['VENDAS']\n",
    "\n",
    "X_train, X_test, y_train, y_test = train_test_split(X, y, test_size=0.3, random_state=42)\n",
    "\n",
    "adaboost = AdaBoostRegressor(n_estimators=200, learning_rate=0.1, random_state=42)\n",
    "\n",
    "adaboost.fit(X_train, y_train)\n",
    "\n",
    "adaboost_predicao = adaboost.predict(X_test)\n",
    "\n",
    "mse = mean_squared_error(y_test, adaboost_predicao)\n",
    "rmse = np.sqrt(mse)\n",
    "mae = mean_absolute_error(y_test, adaboost_predicao)\n",
    "r2 = r2_score(y_test, adaboost_predicao)\n",
    "\n",
    "print(f\"Nordeste - AdaBoost - Sem Outliers:\\n\")\n",
    "print(f\"Erro Quadrático Médio (MSE): {mse:.2f}\")\n",
    "print(f\"Root Mean Squared Error (RMSE): {rmse:.2f}\")\n",
    "print(f\"Mean Absolute Error (MAE): {mae:.2f}\")\n",
    "print(f\"Coeficiente de Determinação (R²): {r2:.2f} -> {r2 * 100:.2f}%\\n\")\n",
    "print(f\"Tempo decorrido:\\n\")\n",
    "\n"
   ]
  },
  {
   "cell_type": "markdown",
   "id": "03ebe9dc-9336-48eb-acf2-af7efb14fa82",
   "metadata": {},
   "source": [
    "<h1 style=\"color:orange;\">Bagging Regressor</h1>\n"
   ]
  },
  {
   "cell_type": "code",
   "execution_count": null,
   "id": "7f2ee511-3cfa-4732-a61e-4c94d06247a5",
   "metadata": {},
   "outputs": [],
   "source": [
    "%%time\n",
    "#BaggingRegressor\n",
    "\n",
    "X = df_nordeste_sem_outliers.drop(columns=['VENDAS']) \n",
    "y = df_nordeste_sem_outliers['VENDAS']\n",
    "\n",
    "X_train, X_test, y_train, y_test = train_test_split(X, y, test_size=0.3, random_state=42)\n",
    "\n",
    "# dependendo da versão do sklearn, ao inves de ser base estimator é só estimator\n",
    "bagging = BaggingRegressor(estimator=DecisionTreeRegressor(criterion='squared_error'), \n",
    "                           n_estimators=100, \n",
    "                           random_state=42)\n",
    "\n",
    "bagging.fit(X_train, y_train)\n",
    "\n",
    "predicao = bagging.predict(X_test)\n",
    "\n",
    "mse = mean_squared_error(y_test, predicao)\n",
    "rmse = np.sqrt(mse)\n",
    "mae = mean_absolute_error(y_test, predicao)\n",
    "r2 = r2_score(y_test, predicao)\n",
    "\n",
    "print(f\"Região Nordeste - Bagging Regressor - Sem Outliers:\\n\")\n",
    "print(f\"Erro Quadrático Médio (MSE): {mse:.2f}\")\n",
    "print(f\"Root Mean Squared Error (RMSE): {rmse:.2f}\")\n",
    "print(f\"Mean Absolute Error (MAE): {mae:.2f}\")\n",
    "print(f\"Coeficiente de Determinação (R²): {r2:.2f} -> {r2 * 100:.2f}%\\n\")\n",
    "print(f\"Tempo decorrido:\\n\")\n",
    "\n"
   ]
  },
  {
   "cell_type": "markdown",
   "id": "b8a9c655-34b3-49bd-a96c-9e5769ad3364",
   "metadata": {},
   "source": [
    "<h1 style=\"color:orange;\">KNN</h1>\n"
   ]
  },
  {
   "cell_type": "code",
   "execution_count": null,
   "id": "0b4e0fc9-fcd5-4bc0-8290-4d25fe0b7780",
   "metadata": {},
   "outputs": [],
   "source": [
    "%%time\n",
    "#KNN\n",
    "X = df_nordeste_sem_outliers.drop(columns=['VENDAS']) \n",
    "y = df_nordeste_sem_outliers['VENDAS']  \n",
    "\n",
    "X_train, X_test, y_train, y_test = train_test_split(X, y, test_size=0.3, random_state=42)\n",
    "\n",
    "knn_regressor = KNeighborsRegressor(n_neighbors=5)  # Usando 5 vizinhos como padrão\n",
    "\n",
    "knn_regressor.fit(X_train, y_train)\n",
    "\n",
    "predicao = knn_regressor.predict(X_test)\n",
    "\n",
    "mse = mean_squared_error(y_test, predicao)\n",
    "mae = mean_absolute_error(y_test, predicao)\n",
    "r2 = r2_score(y_test, predicao)\n",
    "print(f\"Região Nordeste - KNN - Sem Outliers:\\n\")\n",
    "print(f\"Erro Quadrático Médio (MSE): {mse:.2f}\")\n",
    "print(f\"Root Mean Squared Error (RMSE): {rmse:.2f}\")\n",
    "print(f\"Mean Absolute Error (MAE): {mae:.2f}\")\n",
    "print(f\"Coeficiente de Determinação (R²): {r2:.2f} -> {r2 * 100:.2f}%\\n\")\n",
    "print(f\"Tempo decorrido:\\n\")\n",
    "\n",
    "\n"
   ]
  },
  {
   "cell_type": "code",
   "execution_count": null,
   "id": "5bb0a5e8-5685-4bcc-b17e-93234da97a69",
   "metadata": {},
   "outputs": [],
   "source": []
  },
  {
   "cell_type": "code",
   "execution_count": null,
   "id": "745be77d-eb8d-4478-9b53-ee40bac30865",
   "metadata": {},
   "outputs": [],
   "source": []
  },
  {
   "cell_type": "code",
   "execution_count": null,
   "id": "7f742328-48f4-4482-8259-f7e818c20a91",
   "metadata": {},
   "outputs": [],
   "source": []
  },
  {
   "cell_type": "code",
   "execution_count": null,
   "id": "66b42694-4f96-4415-8bb0-de21dc29b715",
   "metadata": {},
   "outputs": [],
   "source": []
  },
  {
   "cell_type": "markdown",
   "id": "06182683-78f5-44db-adc4-8d438a166812",
   "metadata": {},
   "source": [
    "<h1 style=\"color:red;\">Pré- processamento - Região Norte</h1>\n"
   ]
  },
  {
   "cell_type": "markdown",
   "id": "9c5e618a-4e2f-44a1-a7ba-44bac74a35d1",
   "metadata": {},
   "source": [
    "<h1 style=\"color:red;\">Explorando e entendendo a média de vendas total da Região Norte</h1>\n"
   ]
  },
  {
   "cell_type": "code",
   "execution_count": null,
   "id": "65a7fee5-ef7b-4d63-b809-f6e1f3e097e4",
   "metadata": {},
   "outputs": [],
   "source": [
    "media_vendas_norte = df_norte['VENDAS'].mean()\n",
    "\n",
    "print(f\"Média de vendas na Região Norte: {media_vendas_norte:.2f} m³\")\n"
   ]
  },
  {
   "cell_type": "code",
   "execution_count": null,
   "id": "4ce6a7fd-cd12-48bb-84aa-c475d2143375",
   "metadata": {},
   "outputs": [],
   "source": [
    "df_norte"
   ]
  },
  {
   "cell_type": "markdown",
   "id": "407f2708-eaf2-4a6b-b398-ef104119e834",
   "metadata": {},
   "source": [
    "<h1 style=\"color:red;\">Dividindo o DF Norte em categórico e numérico</h1>\n"
   ]
  },
  {
   "cell_type": "code",
   "execution_count": null,
   "id": "52c58cde-5cf6-484b-832a-f26c472939b5",
   "metadata": {},
   "outputs": [],
   "source": [
    "df_categorico_norte = df_norte.select_dtypes(include=['object'])\n",
    "df_numerico_norte = df_norte.select_dtypes(include=['number'])"
   ]
  },
  {
   "cell_type": "markdown",
   "id": "52718eb7-e75b-45f2-a2d7-45a21aa45a55",
   "metadata": {},
   "source": [
    "<h1 style=\"color:red;\">Norte - Categórico</h1>\n"
   ]
  },
  {
   "cell_type": "code",
   "execution_count": null,
   "id": "f43a0c57-00c8-4537-9bcd-1e9887d53691",
   "metadata": {},
   "outputs": [],
   "source": [
    "df_categorico_norte"
   ]
  },
  {
   "cell_type": "code",
   "execution_count": null,
   "id": "e9c00bc0-e3ba-4497-8d5d-aeb045013a24",
   "metadata": {},
   "outputs": [],
   "source": [
    "print(f'Norte  - Colunas do DataFrame Categórico:\\n\\n{df_categorico_norte.columns}')"
   ]
  },
  {
   "cell_type": "markdown",
   "id": "b5eb1602-ed77-412e-a29f-1fae4f0cf761",
   "metadata": {},
   "source": [
    "<h1 style=\"color:red;\">Norte - Numérico</h1>\n"
   ]
  },
  {
   "cell_type": "code",
   "execution_count": null,
   "id": "13147eb7-d9e0-46f2-bb2b-54e5c47fe2cf",
   "metadata": {},
   "outputs": [],
   "source": [
    "df_numerico_norte"
   ]
  },
  {
   "cell_type": "code",
   "execution_count": null,
   "id": "5dceb407-88b0-45a3-a188-b4191317a28d",
   "metadata": {},
   "outputs": [],
   "source": [
    "print(f'Norte  - Colunas do DataFrame Numérico:\\n\\n{df_numerico_norte.columns}')"
   ]
  },
  {
   "cell_type": "markdown",
   "id": "35d6d091-aac2-4b6e-a87d-400671bacc6c",
   "metadata": {},
   "source": [
    "<h1 style=\"color:red;\">Transformando variáveis categóricas</h1>\n"
   ]
  },
  {
   "cell_type": "markdown",
   "id": "921c3b95-436c-4f68-86f8-701289a7f84c",
   "metadata": {},
   "source": [
    "<h1 style=\"color:red;\">One-Hot Encoding para PRODUTO, GRANDE REGIÃO,UNIDADE DE FEDERAÇÃO, MÊS</h1>\n"
   ]
  },
  {
   "cell_type": "code",
   "execution_count": null,
   "id": "1f62e0fe-e5c9-4ebc-93b1-9f4d31f4a703",
   "metadata": {},
   "outputs": [],
   "source": [
    "# One-Hot Encoding para PRODUTO e outras categorias\n",
    "df_norte = df_norte.drop(columns=[\"GRANDE REGIÃO\"])\n",
    "\n",
    "df_norte = pd.get_dummies(df_norte  , columns=['PRODUTO'], drop_first=False)\n",
    "#df_norte = pd.get_dummies(df_norte , columns=['GRANDE REGIÃO'], drop_first=False)\n",
    "df_norte = pd.get_dummies(df_norte , columns=['UNIDADE DA FEDERAÇÃO'], drop_first=False)\n",
    "df_norte = pd.get_dummies(df_norte , columns=['MÊS'], drop_first=False)"
   ]
  },
  {
   "cell_type": "code",
   "execution_count": null,
   "id": "ee7d6b59-b82a-4138-b8ba-18f650d277ed",
   "metadata": {},
   "outputs": [],
   "source": [
    "df_norte"
   ]
  },
  {
   "cell_type": "code",
   "execution_count": null,
   "id": "bcd4c9f0-fb4a-49b4-b67f-1b94962ec18b",
   "metadata": {},
   "outputs": [],
   "source": [
    "print(f'Norte  - Colunas transformadas:\\n\\n{df_norte.columns}')"
   ]
  },
  {
   "cell_type": "markdown",
   "id": "addce3e6-a933-4bc9-88b2-af7b815ea3c7",
   "metadata": {},
   "source": [
    "<h1 style=\"color:red;\">Outliers</h1>\n"
   ]
  },
  {
   "cell_type": "code",
   "execution_count": null,
   "id": "f8cb6a9e-7bf0-40cc-8deb-91334afcb795",
   "metadata": {},
   "outputs": [],
   "source": [
    "sns.boxplot(x=df_norte['VENDAS'])\n",
    "\n",
    "plt.title('Boxplot de Vendas - Região Norte')\n",
    "plt.xlabel('Vendas')\n",
    "plt.show()\n"
   ]
  },
  {
   "cell_type": "markdown",
   "id": "338d8a4c-85a8-46b3-a555-3607f26f66cf",
   "metadata": {},
   "source": [
    "<h1 style=\"color:red;\">Removendo outliers utlizando o método IQR</h1>\n"
   ]
  },
  {
   "cell_type": "code",
   "execution_count": null,
   "id": "a49ac511-b693-4af0-b1b7-e2997680b6b3",
   "metadata": {},
   "outputs": [],
   "source": [
    "#Remoção de Outliers\n",
    "\n",
    "df_norte_sem_outliers = df_norte.copy()\n",
    "\n",
    "Q1 = df['VENDAS'].quantile(0.25)  \n",
    "Q3 = df['VENDAS'].quantile(0.75)  \n",
    "IQR = Q3 - Q1 \n",
    "\n",
    "\n",
    "limite_inferior = Q1 - 1.5 * IQR\n",
    "limite_superior = Q3 + 1.5 * IQR\n",
    "\n",
    "\n",
    "df_norte_sem_outliers  = df_norte_sem_outliers [\n",
    "    (df_norte_sem_outliers['VENDAS'] >= limite_inferior) & \n",
    "    (df_norte_sem_outliers['VENDAS'] <= limite_superior)\n",
    "]\n",
    "\n",
    "# \n",
    "#print(\"Limite Inferior:\", limite_inferior)\n",
    "#print(\"Limite Superior:\", limite_superior)\n",
    "\n"
   ]
  },
  {
   "cell_type": "code",
   "execution_count": null,
   "id": "73876380-326a-46a5-8779-24b29f1a9d4d",
   "metadata": {},
   "outputs": [],
   "source": [
    "print(\"DataFrame sem outliers - Norte\")\n",
    "df_norte_sem_outliers #chamar df_sem_outliers caso precise"
   ]
  },
  {
   "cell_type": "code",
   "execution_count": null,
   "id": "b3305b6f-11d6-4a16-8a1c-180ae236e8d0",
   "metadata": {},
   "outputs": [],
   "source": [
    "sns.boxplot(x=df_norte_sem_outliers['VENDAS'])\n",
    "\n",
    "plt.title('Boxplot de Vendas Após Remoção de Outliers- Região Norte')\n",
    "plt.xlabel('Vendas')\n",
    "plt.show()\n"
   ]
  },
  {
   "cell_type": "markdown",
   "id": "5b6c28aa-3a18-4e09-9aea-7572314da311",
   "metadata": {},
   "source": [
    "<h1 style=\"color:red;\"> Calcular a matriz de correlação (sem gráfico)</h1>\n"
   ]
  },
  {
   "cell_type": "markdown",
   "id": "6dc5b940-2517-48fa-a7d9-12508a2c124a",
   "metadata": {},
   "source": [
    "<h2 style=\"color:red;\">Sem outliers - Correlação</h2>\n"
   ]
  },
  {
   "cell_type": "code",
   "execution_count": null,
   "id": "68314f81-97fe-4682-b410-8fffff36c23b",
   "metadata": {},
   "outputs": [],
   "source": [
    "# Calcular a matriz de correlação SEM outliers\n",
    "corr_matrix = df_norte_sem_outliers.corr()\n",
    "\n",
    "print(\"Norte - Top 10 correlações com VENDAS (sem outliers):\\n\")\n",
    "print(corr_matrix['VENDAS'].sort_values(ascending=False).head(10))\n",
    "\n",
    "print(\"\\nNorte - Top 10 correlações negativas com VENDAS(sem outliers):\")\n",
    "print(corr_matrix['VENDAS'].sort_values(ascending=False).tail(10))\n"
   ]
  },
  {
   "cell_type": "markdown",
   "id": "7bc2c30b-788d-4712-ba6e-d8dcd50e114d",
   "metadata": {},
   "source": [
    "<h2 style=\"color:red;\">Com outliers - Correlação</h2>\n"
   ]
  },
  {
   "cell_type": "code",
   "execution_count": null,
   "id": "0ecdaaff-d5b3-4ad9-94d8-0b2d7aa0b0a7",
   "metadata": {},
   "outputs": [],
   "source": [
    "# Calcular a matriz de correlação SEM outliers\n",
    "corr_matrix = df_norte.corr()\n",
    "\n",
    "print(\"Top 10 correlações com VENDAS (com outliers):\")\n",
    "print(corr_matrix['VENDAS'].sort_values(ascending=False).head(10))\n",
    "\n",
    "print(\"\\nTop 10 correlações negativas com VENDAS(com outliers):\")\n",
    "print(corr_matrix['VENDAS'].sort_values(ascending=False).tail(10))\n"
   ]
  },
  {
   "cell_type": "markdown",
   "id": "02820dd4-b8fd-4df1-a1f2-4b327e044772",
   "metadata": {},
   "source": [
    "<h2 style=\"color:red;\">Treinamento</h2>\n"
   ]
  },
  {
   "cell_type": "markdown",
   "id": "8651bbba-d314-4763-ab3b-a95fedc5a048",
   "metadata": {},
   "source": [
    "<h2 style=\"color:red;\">Regressão Linear</h2>\n"
   ]
  },
  {
   "cell_type": "code",
   "execution_count": null,
   "id": "a7d08688-4a46-4ad7-a23c-8ce17bf4cbd2",
   "metadata": {},
   "outputs": [],
   "source": [
    "%%time\n",
    "\n",
    "# Variáveis com maior correlação \n",
    "#PRODUTO_ÓLEO DIESEL              0.499512\n",
    "#UNIDADE DA FEDERAÇÃO_PARÁ        0.236958\n",
    "#PRODUTO_GASOLINA C               0.200205\n",
    "#UNIDADE DA FEDERAÇÃO_AMAZONAS    0.185904\n",
    "\n",
    "X = df_norte_sem_outliers[['PRODUTO_ÓLEO DIESEL', \n",
    "        'UNIDADE DA FEDERAÇÃO_PARÁ', \n",
    "        'PRODUTO_GASOLINA C', \n",
    "        'UNIDADE DA FEDERAÇÃO_AMAZONAS']]  \n",
    "\n",
    "\n",
    "y = df_norte_sem_outliers['VENDAS']\n",
    "\n",
    "X_train, X_test, y_train, y_test = train_test_split(X, y, test_size=0.2, random_state=42)\n",
    "\n",
    "model = LinearRegression()\n",
    "model.fit(X_train, y_train)\n",
    "\n",
    "predicao = model.predict(X_test)\n",
    "\n",
    "mse = mean_squared_error(y_test, predicao)\n",
    "r2 = r2_score(y_test, predicao)\n",
    "rmse = np.sqrt(mse)\n",
    "mae = mean_absolute_error(y_test, predicao)\n",
    "\n",
    "print(\"\\nNorte - Regressão Linear - Métricas sem outliers\\n\")\n",
    "print(f'Erro Quadrático Médio (MSE): {mse}')\n",
    "print(f'Coeficiente de Determinação (R²): {r2:.2f} -> {r2 * 100:.2f}%')\n",
    "print(f'Root Mean Squared Error (RMSE): {rmse:.2f}')\n",
    "print(f'Mean Absolute Error (MAE): {mae:.2f}\\n')\n",
    "\n",
    "print(f'Tempo decorrido:')\n",
    "\n",
    "\n",
    "#print(f\"Tamanho de predicao: {len(predicao)}\")\n",
    "#print(f\"Tamanho de y_test: {len(y_test)}\")"
   ]
  },
  {
   "cell_type": "markdown",
   "id": "f08797f4-e0d2-48ae-8c85-2b89c8694750",
   "metadata": {},
   "source": [
    "<h2 style=\"color:red;\">Árvore Decisão</h2>\n"
   ]
  },
  {
   "cell_type": "code",
   "execution_count": null,
   "id": "f07e27bd-d702-494a-bca2-add0de781492",
   "metadata": {},
   "outputs": [],
   "source": [
    "%%time\n",
    "#árvore de decisão\n",
    "X = df_norte_sem_outliers.drop(columns=['VENDAS']) \n",
    "y = df_norte_sem_outliers['VENDAS']\n",
    "\n",
    "X_train, X_test, y_train, y_test = train_test_split(X, y, test_size=0.3, random_state=42)\n",
    "\n",
    "dtree = DecisionTreeRegressor(criterion='squared_error')\n",
    "dtree.fit(X_train, y_train)\n",
    "\n",
    "predicao = dtree.predict(X_test)\n",
    "\n",
    "\n",
    "mse = mean_squared_error(y_test, predicao)\n",
    "rmse = np.sqrt(mse)\n",
    "mae = mean_absolute_error(y_test, predicao)\n",
    "r2 = r2_score(y_test, predicao)\n",
    "\n",
    "print(f\"norte - Árvore de decisão - Sem Outliers:\\n\")\n",
    "\n",
    "print(f\"Erro Quadrático Médio (MSE): {mse:.2f}\")\n",
    "print(f\"Root Mean Squared Error (RMSE): {rmse:.2f}\")\n",
    "print(f\"Mean Absolute Error (MAE): {mae:.2f}\")\n",
    "print(f\"Coeficiente de Determinação (R²): {r2:.2f} -> {r2 * 100:.2f}%\\n\")\n",
    "print(f\"Tempo decorrido:\\n\")\n",
    "\n",
    "\n",
    "#print(f\"Tamanho de predicao: {len(predicao)}\")\n",
    "#print(f\"Tamanho de y_test: {len(y_test)}\")\n",
    "\n"
   ]
  },
  {
   "cell_type": "markdown",
   "id": "f3d894c6-20f6-4e50-a668-27e37691249d",
   "metadata": {},
   "source": [
    "<h2 style=\"color:red;\">Floresta Aleatória</h2>\n"
   ]
  },
  {
   "cell_type": "code",
   "execution_count": null,
   "id": "d762d8f4-7b0a-4f22-8ec1-f7f431dcde5c",
   "metadata": {},
   "outputs": [],
   "source": [
    "%%time\n",
    "# Floresta Aleatória\n",
    "X = df_norte_sem_outliers.drop(columns=['VENDAS']) \n",
    "y = df_norte_sem_outliers['VENDAS']\n",
    "\n",
    "X_train, X_test, y_train, y_test = train_test_split(X, y, test_size=0.3, random_state=42)\n",
    "\n",
    "rfc = RandomForestRegressor(n_estimators=100)\n",
    "rfc.fit(X_train, y_train)\n",
    "\n",
    "rfc_predicao = rfc.predict(X_test)\n",
    "\n",
    "mse = mean_squared_error(y_test, rfc_predicao)\n",
    "rmse = np.sqrt(mse)\n",
    "mae = mean_absolute_error(y_test, rfc_predicao)\n",
    "r2 = r2_score(y_test, rfc_predicao)\n",
    "\n",
    "print(f\"Norte - Floresta Aleatória - Sem Outliers:\\n\")\n",
    "print(f\"Erro Quadrático Médio (MSE): {mse:.2f}\")\n",
    "print(f\"Root Mean Squared Error (RMSE): {rmse:.2f}\")\n",
    "print(f\"Mean Absolute Error (MAE): {mae:.2f}\")\n",
    "print(f\"Coeficiente de Determinação (R²): {r2:.2f} -> {r2 * 100:.2f}%\\n\")\n",
    "print(f\"Tempo decorrido:\\n\")\n",
    "\n",
    "#print(f\"Tamanho de rfc_predicao: {len(rfc_predicao)}\")\n",
    "#print(f\"Tamanho de y_test: {len(y_test)}\")"
   ]
  },
  {
   "cell_type": "markdown",
   "id": "b0579219-04d2-4992-84e7-be2333df2dda",
   "metadata": {},
   "source": [
    "<h1 style=\"color:red;\">Gradient Boosting Regressor</h1>\n"
   ]
  },
  {
   "cell_type": "code",
   "execution_count": null,
   "id": "d0c4cfb1-014c-4d64-abf9-19e1d7d869c0",
   "metadata": {},
   "outputs": [],
   "source": [
    "%%time\n",
    "\n",
    "X = df_norte_sem_outliers.drop(columns=['VENDAS']) \n",
    "y = df_norte_sem_outliers['VENDAS']\n",
    "\n",
    "X_train, X_test, y_train, y_test = train_test_split(X, y, test_size=0.3, random_state=42)\n",
    "\n",
    "gbr = GradientBoostingRegressor(n_estimators=200, learning_rate=0.1, max_depth=6, random_state=42)\n",
    "\n",
    "gbr.fit(X_train, y_train)\n",
    "\n",
    "gbr_predicao = gbr.predict(X_test)\n",
    "\n",
    "mse = mean_squared_error(y_test, gbr_predicao)\n",
    "rmse = np.sqrt(mse)\n",
    "mae = mean_absolute_error(y_test, gbr_predicao)\n",
    "r2 = r2_score(y_test, gbr_predicao)\n",
    "\n",
    "print(f\"Norte - Gradient Boosting - Sem Outliers:\\n\")\n",
    "print(f\"Erro Quadrático Médio (MSE): {mse:.2f}\")\n",
    "print(f\"Root Mean Squared Error (RMSE): {rmse:.2f}\")\n",
    "print(f\"Mean Absolute Error (MAE): {mae:.2f}\")\n",
    "print(f\"Coeficiente de Determinação (R²): {r2:.2f} -> {r2 * 100:.2f}%\\n\")\n"
   ]
  },
  {
   "cell_type": "markdown",
   "id": "4eb5083c-6285-49a9-8e5f-8a0c8ca1b793",
   "metadata": {},
   "source": [
    "<h1 style=\"color:red;\">Ada Boost</h1>\n"
   ]
  },
  {
   "cell_type": "code",
   "execution_count": null,
   "id": "cf50798f-0560-4a29-ad8e-e85d2a1d762b",
   "metadata": {},
   "outputs": [],
   "source": [
    "%%time\n",
    "\n",
    "X = df_norte_sem_outliers.drop(columns=['VENDAS']) \n",
    "y = df_norte_sem_outliers['VENDAS']\n",
    "\n",
    "X_train, X_test, y_train, y_test = train_test_split(X, y, test_size=0.3, random_state=42)\n",
    "\n",
    "adaboost = AdaBoostRegressor(n_estimators=200, learning_rate=0.1, random_state=42)\n",
    "\n",
    "adaboost.fit(X_train, y_train)\n",
    "\n",
    "adaboost_predicao = adaboost.predict(X_test)\n",
    "\n",
    "mse = mean_squared_error(y_test, adaboost_predicao)\n",
    "rmse = np.sqrt(mse)\n",
    "mae = mean_absolute_error(y_test, adaboost_predicao)\n",
    "r2 = r2_score(y_test, adaboost_predicao)\n",
    "\n",
    "print(f\"Norte - AdaBoost - Sem Outliers:\\n\")\n",
    "print(f\"Erro Quadrático Médio (MSE): {mse:.2f}\")\n",
    "print(f\"Root Mean Squared Error (RMSE): {rmse:.2f}\")\n",
    "print(f\"Mean Absolute Error (MAE): {mae:.2f}\")\n",
    "print(f\"Coeficiente de Determinação (R²): {r2:.2f} -> {r2 * 100:.2f}%\\n\")\n",
    "print(f\"Tempo decorrido:\\n\")\n",
    "\n"
   ]
  },
  {
   "cell_type": "markdown",
   "id": "c355d28e-67ff-46ed-93e6-47ff277893a0",
   "metadata": {},
   "source": [
    "<h1 style=\"color:red;\">Bagging Regressor</h1>\n"
   ]
  },
  {
   "cell_type": "code",
   "execution_count": null,
   "id": "fc244449-e383-4e56-95ea-e4915619fd34",
   "metadata": {},
   "outputs": [],
   "source": [
    "%%time\n",
    "#BaggingRegressor\n",
    "\n",
    "X = df_norte_sem_outliers.drop(columns=['VENDAS']) \n",
    "y = df_norte_sem_outliers['VENDAS']\n",
    "\n",
    "X_train, X_test, y_train, y_test = train_test_split(X, y, test_size=0.3, random_state=42)\n",
    "\n",
    "# dependendo da versão do sklearn, ao inves de ser base estimator é só estimator\n",
    "bagging = BaggingRegressor(estimator=DecisionTreeRegressor(criterion='squared_error'), \n",
    "                           n_estimators=100, \n",
    "                           random_state=42)\n",
    "\n",
    "bagging.fit(X_train, y_train)\n",
    "\n",
    "predicao = bagging.predict(X_test)\n",
    "\n",
    "mse = mean_squared_error(y_test, predicao)\n",
    "rmse = np.sqrt(mse)\n",
    "mae = mean_absolute_error(y_test, predicao)\n",
    "r2 = r2_score(y_test, predicao)\n",
    "\n",
    "print(f\"Região Norte - Bagging Regressor - Sem Outliers:\\n\")\n",
    "print(f\"Erro Quadrático Médio (MSE): {mse:.2f}\")\n",
    "print(f\"Root Mean Squared Error (RMSE): {rmse:.2f}\")\n",
    "print(f\"Mean Absolute Error (MAE): {mae:.2f}\")\n",
    "print(f\"Coeficiente de Determinação (R²): {r2:.2f} -> {r2 * 100:.2f}%\\n\")\n",
    "print(f\"Tempo decorrido:\\n\")\n",
    "\n"
   ]
  },
  {
   "cell_type": "markdown",
   "id": "db6770db-0172-4cc6-a295-5394e97b1baa",
   "metadata": {},
   "source": [
    "<h1 style=\"color:red;\">KNN</h1>\n"
   ]
  },
  {
   "cell_type": "code",
   "execution_count": null,
   "id": "21d868f2-26b8-4e70-a746-7f0f555109cb",
   "metadata": {},
   "outputs": [],
   "source": [
    "%%time\n",
    "#KNN\n",
    "X = df_norte_sem_outliers.drop(columns=['VENDAS']) \n",
    "y = df_norte_sem_outliers['VENDAS']  \n",
    "\n",
    "X_train, X_test, y_train, y_test = train_test_split(X, y, test_size=0.3, random_state=42)\n",
    "\n",
    "knn_regressor = KNeighborsRegressor(n_neighbors=5)  # Usando 5 vizinhos como padrão\n",
    "\n",
    "knn_regressor.fit(X_train, y_train)\n",
    "\n",
    "predicao = knn_regressor.predict(X_test)\n",
    "\n",
    "mse = mean_squared_error(y_test, predicao)\n",
    "mae = mean_absolute_error(y_test, predicao)\n",
    "r2 = r2_score(y_test, predicao)\n",
    "print(f\"Região Sudeste - KNN - Sem Outliers:\\n\")\n",
    "print(f\"Erro Quadrático Médio (MSE): {mse:.2f}\")\n",
    "print(f\"Root Mean Squared Error (RMSE): {rmse:.2f}\")\n",
    "print(f\"Mean Absolute Error (MAE): {mae:.2f}\")\n",
    "print(f\"Coeficiente de Determinação (R²): {r2:.2f} -> {r2 * 100:.2f}%\\n\")\n",
    "print(f\"Tempo decorrido:\\n\")\n",
    "\n",
    "\n"
   ]
  },
  {
   "cell_type": "code",
   "execution_count": null,
   "id": "0ee60f4b-e006-4524-98ec-dad8a177de3e",
   "metadata": {},
   "outputs": [],
   "source": []
  },
  {
   "cell_type": "code",
   "execution_count": null,
   "id": "902a74b6-9fc7-47c5-b499-a31989d217f1",
   "metadata": {},
   "outputs": [],
   "source": []
  },
  {
   "cell_type": "code",
   "execution_count": null,
   "id": "33c9b670-78a9-4ab4-bdf4-2082b8689fba",
   "metadata": {},
   "outputs": [],
   "source": []
  },
  {
   "cell_type": "markdown",
   "id": "242fdbe2-881c-4c7d-b4a8-f46ab4de73d3",
   "metadata": {},
   "source": [
    "<h1 style=\"color:yellow;\">Pré- processamento - Região Centro-Oeste</h1>\n"
   ]
  },
  {
   "cell_type": "markdown",
   "id": "a012daf1-73d8-428b-9a0e-2041aa1cf6f9",
   "metadata": {},
   "source": [
    "<h1 style=\"color:yellow;\">Explorando e entendendo a média de vendas total da Região Centro-Oeste</h1>\n"
   ]
  },
  {
   "cell_type": "code",
   "execution_count": null,
   "id": "176aec5e-7935-4a57-955e-b22af8db25ce",
   "metadata": {},
   "outputs": [],
   "source": [
    "media_vendas_centro_oeste = df_centro_oeste['VENDAS'].mean()\n",
    "\n",
    "print(f\"Média de vendas na Região Centro-Oeste: {media_vendas_centro_oeste:.2f} m³\")\n"
   ]
  },
  {
   "cell_type": "code",
   "execution_count": null,
   "id": "c25c36c5-1a91-4284-8711-11dffdc31a19",
   "metadata": {},
   "outputs": [],
   "source": [
    "df_centro_oeste"
   ]
  },
  {
   "cell_type": "markdown",
   "id": "feeaa92d-4cd4-4833-8861-01570355df38",
   "metadata": {},
   "source": [
    "<h1 style=\"color:yellow;\">Dividindo o DF Centro-Oeste em categórico e numérico</h1>\n"
   ]
  },
  {
   "cell_type": "code",
   "execution_count": null,
   "id": "13559831-fbb3-41ed-9187-fedd09559420",
   "metadata": {},
   "outputs": [],
   "source": [
    "df_categorico_centro_oeste= df_centro_oeste.select_dtypes(include=['object'])\n",
    "df_numerico_centro_oeste = df_centro_oeste.select_dtypes(include=['number'])"
   ]
  },
  {
   "cell_type": "markdown",
   "id": "01498179-ba6a-4991-a0d5-d4c99dfc9b77",
   "metadata": {},
   "source": [
    "<h1 style=\"color:yellow;\">Centro-Oeste - Categórico</h1>\n"
   ]
  },
  {
   "cell_type": "code",
   "execution_count": null,
   "id": "45453d88-abc2-4f29-a5ad-83ab6736ba62",
   "metadata": {},
   "outputs": [],
   "source": [
    "df_categorico_centro_oeste"
   ]
  },
  {
   "cell_type": "code",
   "execution_count": null,
   "id": "07ef3316-cc82-436e-b50e-46d57506375f",
   "metadata": {},
   "outputs": [],
   "source": [
    "print(f'Centro-Oeste  - Colunas do DataFrame Categórico:\\n\\n{df_categorico_centro_oeste.columns}')"
   ]
  },
  {
   "cell_type": "markdown",
   "id": "8a73aee2-6390-4be5-bd34-cee8c5e610a3",
   "metadata": {},
   "source": [
    "<h1 style=\"color:yellow;\">Centro-Oeste - Numérico</h1>\n"
   ]
  },
  {
   "cell_type": "code",
   "execution_count": null,
   "id": "b9c04bab-70ce-4302-bccf-4def7dc5c7c2",
   "metadata": {},
   "outputs": [],
   "source": [
    "df_numerico_centro_oeste"
   ]
  },
  {
   "cell_type": "code",
   "execution_count": null,
   "id": "153def57-2c94-4299-956c-fa1f044ab6dc",
   "metadata": {},
   "outputs": [],
   "source": [
    "print(f'Centro-Oeste  - Colunas do DataFrame Numérico:\\n\\n{df_numerico_centro_oeste.columns}')"
   ]
  },
  {
   "cell_type": "markdown",
   "id": "c222af6e-d96a-4279-852f-f85dad18f3a1",
   "metadata": {},
   "source": [
    "<h1 style=\"color:yellow;\">Transformando variáveis categóricas</h1>\n"
   ]
  },
  {
   "cell_type": "markdown",
   "id": "6c6c63f4-ca59-4569-b2d5-6310688c2f36",
   "metadata": {},
   "source": [
    "<h1 style=\"color:yellow;\">One-Hot Encoding para PRODUTO, GRANDE REGIÃO,UNIDADE DE FEDERAÇÃO, MÊS</h1>\n"
   ]
  },
  {
   "cell_type": "code",
   "execution_count": null,
   "id": "314fc54e-2cfa-4e95-9df5-e7b764956b59",
   "metadata": {},
   "outputs": [],
   "source": [
    "# One-Hot Encoding para PRODUTO e outras categorias\n",
    "df_centro_oeste = df_centro_oeste.drop(columns=[\"GRANDE REGIÃO\"])\n",
    "\n",
    "df_centro_oeste = pd.get_dummies(df_centro_oeste  , columns=['PRODUTO'], drop_first=False)\n",
    "#df_df_centro_oeste = pd.get_dummies(df_centro_oeste , columns=['GRANDE REGIÃO'], drop_first=False)\n",
    "df_centro_oeste= pd.get_dummies(df_centro_oeste , columns=['UNIDADE DA FEDERAÇÃO'], drop_first=False)\n",
    "df_centro_oeste = pd.get_dummies(df_centro_oeste , columns=['MÊS'], drop_first=False)"
   ]
  },
  {
   "cell_type": "code",
   "execution_count": null,
   "id": "ddfa4c37-5616-4d92-a783-2248e0ab6f0c",
   "metadata": {},
   "outputs": [],
   "source": [
    "df_centro_oeste"
   ]
  },
  {
   "cell_type": "code",
   "execution_count": null,
   "id": "0b340a1c-97ef-4de4-85bf-50cfed9e3168",
   "metadata": {},
   "outputs": [],
   "source": [
    "print(f'Centro-Oeste  - Colunas transformadas:\\n\\n{df_centro_oeste.columns}')"
   ]
  },
  {
   "cell_type": "markdown",
   "id": "8f6ef988-553c-4d5b-a6e9-08a5b1a57c17",
   "metadata": {},
   "source": [
    "<h1 style=\"color:yellow;\">Outliers</h1>\n"
   ]
  },
  {
   "cell_type": "code",
   "execution_count": null,
   "id": "423cd81f-2028-4e82-8fdb-ea3ee45d33e7",
   "metadata": {},
   "outputs": [],
   "source": [
    "sns.boxplot(x=df_sudeste['VENDAS'])\n",
    "\n",
    "plt.title('Boxplot de Vendas - Região Centro-Oeste')\n",
    "plt.xlabel('Vendas')\n",
    "plt.show()\n"
   ]
  },
  {
   "cell_type": "markdown",
   "id": "afc71475-4f12-482f-bf05-42b39d2ab17c",
   "metadata": {},
   "source": [
    "<h1 style=\"color:yellow;\">Removendo outliers utlizando o método IQR</h1>\n"
   ]
  },
  {
   "cell_type": "code",
   "execution_count": null,
   "id": "6e29370d-8471-4379-9029-fdbafc732a88",
   "metadata": {},
   "outputs": [],
   "source": [
    "#Remoção de Outliers\n",
    "\n",
    "df_centro_oeste_sem_outliers = df_centro_oeste.copy()\n",
    "\n",
    "Q1 = df['VENDAS'].quantile(0.25)  \n",
    "Q3 = df['VENDAS'].quantile(0.75)  \n",
    "IQR = Q3 - Q1 \n",
    "\n",
    "\n",
    "limite_inferior = Q1 - 1.5 * IQR\n",
    "limite_superior = Q3 + 1.5 * IQR\n",
    "\n",
    "\n",
    "df_centro_oeste_sem_outliers = df_centro_oeste_sem_outliers[\n",
    "    (df_centro_oeste_sem_outliers['VENDAS'] >= limite_inferior) & \n",
    "    (df_centro_oeste_sem_outliers['VENDAS'] <= limite_superior)\n",
    "]\n",
    "\n",
    " \n",
    "#print(\"Limite Inferior:\", limite_inferior)\n",
    "#print(\"Limite Superior:\", limite_superior)\n",
    "\n"
   ]
  },
  {
   "cell_type": "code",
   "execution_count": null,
   "id": "851a689a-f086-4f05-98aa-4c9d2cbb1e72",
   "metadata": {},
   "outputs": [],
   "source": [
    "print(\"DataFrame sem outliers - Centro-Oeste\")\n",
    "df_centro_oeste_sem_outliers #chamar df_sem_outliers caso precise"
   ]
  },
  {
   "cell_type": "code",
   "execution_count": null,
   "id": "b305f489-ea65-45bc-b388-283ad0d27886",
   "metadata": {},
   "outputs": [],
   "source": [
    "sns.boxplot(x=df_centro_oeste_sem_outliers['VENDAS'])\n",
    "\n",
    "plt.title('Boxplot de Vendas Após Remoção de Outliers- Região Centro-Oeste')\n",
    "plt.xlabel('Vendas')\n",
    "plt.show()\n"
   ]
  },
  {
   "cell_type": "markdown",
   "id": "4ab25dd0-dfb1-48f5-8559-47d5dd8be61c",
   "metadata": {},
   "source": [
    "<h1 style=\"color:yellow;\"> Calcular a matriz de correlação (sem gráfico)</h1>\n"
   ]
  },
  {
   "cell_type": "markdown",
   "id": "98954bee-17ed-41f0-9e1d-f7d28d7eec65",
   "metadata": {},
   "source": [
    "<h2 style=\"color:yellow;\">Sem outliers - Correlação</h2>\n"
   ]
  },
  {
   "cell_type": "code",
   "execution_count": null,
   "id": "ca49b48f-7350-4233-96ca-8064fb5bf446",
   "metadata": {},
   "outputs": [],
   "source": [
    "# Calcular a matriz de correlação SEM outliers\n",
    "corr_matrix = df_centro_oeste_sem_outliers.corr()\n",
    "\n",
    "print(\"Centro-Oeste - Top 10 correlações com VENDAS (sem outliers):\\n\")\n",
    "print(corr_matrix['VENDAS'].sort_values(ascending=False).head(10))\n",
    "\n",
    "print(\"\\nCentro-Oeste - Top 10 correlações negativas com VENDAS(sem outliers):\")\n",
    "print(corr_matrix['VENDAS'].sort_values(ascending=False).tail(10))\n"
   ]
  },
  {
   "cell_type": "markdown",
   "id": "a516ed71-6334-4c5e-ae0f-e3f053fa145b",
   "metadata": {},
   "source": [
    "<h2 style=\"color:yellow;\">Com outliers - Correlação</h2>\n"
   ]
  },
  {
   "cell_type": "code",
   "execution_count": null,
   "id": "c5c31d2a-c1db-456c-a47a-615386b7d37e",
   "metadata": {},
   "outputs": [],
   "source": [
    "# Calcular a matriz de correlação COM outliers\n",
    "corr_matrix = df_centro_oeste.corr()\n",
    "\n",
    "print(\"Top 10 correlações com VENDAS (com outliers):\")\n",
    "print(corr_matrix['VENDAS'].sort_values(ascending=False).head(10))\n",
    "\n",
    "print(\"\\nTop 10 correlações negativas com VENDAS(com outliers):\")\n",
    "print(corr_matrix['VENDAS'].sort_values(ascending=False).tail(10))\n"
   ]
  },
  {
   "cell_type": "markdown",
   "id": "552cbabb-6927-4d00-8849-32d7a0979744",
   "metadata": {},
   "source": [
    "<h2 style=\"color:yellow;\">Treinamento</h2>\n"
   ]
  },
  {
   "cell_type": "markdown",
   "id": "4e495966-eebe-4a37-8b53-94583a588cc6",
   "metadata": {},
   "source": [
    "<h2 style=\"color:yellow;\">Regressão Linear</h2>\n"
   ]
  },
  {
   "cell_type": "code",
   "execution_count": null,
   "id": "75b87ddc-cdd8-48ee-8b5b-fd06d761c405",
   "metadata": {},
   "outputs": [],
   "source": [
    "%%time\n",
    "\n",
    "# Variáveis com maior correlação Centro-Oeste \n",
    "#PRODUTO_GASOLINA C                       0.492214\n",
    "#PRODUTO_ÓLEO DIESEL                      0.378516\n",
    "#UNIDADE DA FEDERAÇÃO_GOIÁS               0.129818\n",
    "#PRODUTO_GLP                              0.102549\n",
    "\n",
    "X = df_centro_oeste_sem_outliers[['PRODUTO_GASOLINA C', \n",
    "        'PRODUTO_ÓLEO DIESEL', \n",
    "        'UNIDADE DA FEDERAÇÃO_GOIÁS', \n",
    "        'PRODUTO_GASOLINA C',  \n",
    "        'PRODUTO_GLP']]  \n",
    "\n",
    "\n",
    "y = df_centro_oeste_sem_outliers['VENDAS']\n",
    "\n",
    "X_train, X_test, y_train, y_test = train_test_split(X, y, test_size=0.2, random_state=42)\n",
    "\n",
    "model = LinearRegression()\n",
    "model.fit(X_train, y_train)\n",
    "\n",
    "predicao = model.predict(X_test)\n",
    "\n",
    "mse = mean_squared_error(y_test, predicao)\n",
    "r2 = r2_score(y_test, predicao)\n",
    "rmse = np.sqrt(mse)\n",
    "mae = mean_absolute_error(y_test, predicao)\n",
    "\n",
    "print(\"\\nCentro-Oeste - Regressão Linear - Métricas sem outliers\\n\")\n",
    "print(f'Erro Quadrático Médio (MSE): {mse}')\n",
    "print(f'Coeficiente de Determinação (R²): {r2:.2f} -> {r2 * 100:.2f}%')\n",
    "print(f'Root Mean Squared Error (RMSE): {rmse:.2f}')\n",
    "print(f'Mean Absolute Error (MAE): {mae:.2f}\\n')\n",
    "\n",
    "print(f'Tempo decorrido:')\n",
    "\n",
    "\n",
    "#print(f\"Tamanho de predicao: {len(predicao)}\")\n",
    "#print(f\"Tamanho de y_test: {len(y_test)}\")"
   ]
  },
  {
   "cell_type": "markdown",
   "id": "4e3c4413-448c-4646-99c1-04043603a4b9",
   "metadata": {},
   "source": [
    "<h2 style=\"color:yellow;\">Árvore Decisão</h2>\n"
   ]
  },
  {
   "cell_type": "code",
   "execution_count": null,
   "id": "e0dae890-d20c-4ba0-a70d-b2f9360af89a",
   "metadata": {},
   "outputs": [],
   "source": [
    "%%time\n",
    "#árvore de decisão\n",
    "X = df_centro_oeste_sem_outliers.drop(columns=['VENDAS']) \n",
    "y = df_centro_oeste_sem_outliers['VENDAS']\n",
    "\n",
    "X_train, X_test, y_train, y_test = train_test_split(X, y, test_size=0.3, random_state=42)\n",
    "\n",
    "dtree = DecisionTreeRegressor(criterion='squared_error')\n",
    "dtree.fit(X_train, y_train)\n",
    "\n",
    "predicao = dtree.predict(X_test)\n",
    "\n",
    "\n",
    "mse = mean_squared_error(y_test, predicao)\n",
    "rmse = np.sqrt(mse)\n",
    "mae = mean_absolute_error(y_test, predicao)\n",
    "r2 = r2_score(y_test, predicao)\n",
    "\n",
    "print(f\"Centro-Oeste - Árvore de decisão - Sem Outliers:\\n\")\n",
    "\n",
    "print(f\"Erro Quadrático Médio (MSE): {mse:.2f}\")\n",
    "print(f\"Root Mean Squared Error (RMSE): {rmse:.2f}\")\n",
    "print(f\"Mean Absolute Error (MAE): {mae:.2f}\")\n",
    "print(f\"Coeficiente de Determinação (R²): {r2:.2f} -> {r2 * 100:.2f}%\\n\")\n",
    "print(f\"Tempo decorrido:\\n\")\n",
    "\n",
    "\n",
    "#print(f\"Tamanho de predicao: {len(predicao)}\")\n",
    "#print(f\"Tamanho de y_test: {len(y_test)}\")\n",
    "\n"
   ]
  },
  {
   "cell_type": "markdown",
   "id": "0dec5d6a-2deb-446b-bb98-81a174acc00e",
   "metadata": {},
   "source": [
    "<h2 style=\"color:yellow;\">Floresta Aleatória</h2>\n"
   ]
  },
  {
   "cell_type": "code",
   "execution_count": null,
   "id": "6d0b055c-b680-46c7-9b34-0382660d98b6",
   "metadata": {},
   "outputs": [],
   "source": [
    "%%time\n",
    "# Floresta Aleatória\n",
    "X = df_centro_oeste_sem_outliers.drop(columns=['VENDAS']) \n",
    "y = df_centro_oeste_sem_outliers['VENDAS']\n",
    "\n",
    "X_train, X_test, y_train, y_test = train_test_split(X, y, test_size=0.3, random_state=42)\n",
    "\n",
    "rfc = RandomForestRegressor(n_estimators=100)\n",
    "rfc.fit(X_train, y_train)\n",
    "\n",
    "rfc_predicao = rfc.predict(X_test)\n",
    "\n",
    "mse = mean_squared_error(y_test, rfc_predicao)\n",
    "rmse = np.sqrt(mse)\n",
    "mae = mean_absolute_error(y_test, rfc_predicao)\n",
    "r2 = r2_score(y_test, rfc_predicao)\n",
    "\n",
    "print(f\"Centro-Oeste - Floresta Aleatória - Sem Outliers:\\n\")\n",
    "print(f\"Erro Quadrático Médio (MSE): {mse:.2f}\")\n",
    "print(f\"Root Mean Squared Error (RMSE): {rmse:.2f}\")\n",
    "print(f\"Mean Absolute Error (MAE): {mae:.2f}\")\n",
    "print(f\"Coeficiente de Determinação (R²): {r2:.2f} -> {r2 * 100:.2f}%\\n\")\n",
    "print(f\"Tempo decorrido:\\n\")\n",
    "\n",
    "#print(f\"Tamanho de rfc_predicao: {len(rfc_predicao)}\")\n",
    "#print(f\"Tamanho de y_test: {len(y_test)}\")"
   ]
  },
  {
   "cell_type": "markdown",
   "id": "7bc28827-a8ea-47ba-adbf-9906bdd036c3",
   "metadata": {},
   "source": [
    "<h1 style=\"color:yellow;\">Gradient Boosting Regressor</h1>\n",
    "<p style=\"color:black;\">Os parâmetros do modelo foram ajustados para <strong>n_estimators=300</strong> e <strong>max_depth=6</strong>, a fim de alcançar uma melhor performance, reduzindo os erros de previsão e aumentando a precisão do modelo.</p>\n"
   ]
  },
  {
   "cell_type": "code",
   "execution_count": null,
   "id": "885d55a4-0c4a-4adc-845b-70ae662d9605",
   "metadata": {},
   "outputs": [],
   "source": [
    "%%time\n",
    "\n",
    "X = df_centro_oeste_sem_outliers.drop(columns=['VENDAS']) \n",
    "y = df_centro_oeste_sem_outliers['VENDAS']\n",
    "\n",
    "X_train, X_test, y_train, y_test = train_test_split(X, y, test_size=0.3, random_state=42)\n",
    "\n",
    "gbr = GradientBoostingRegressor(n_estimators=300, learning_rate=0.1, max_depth=6, random_state=42)\n",
    "\n",
    "gbr.fit(X_train, y_train)\n",
    "\n",
    "gbr_predicao = gbr.predict(X_test)\n",
    "\n",
    "mse = mean_squared_error(y_test, gbr_predicao)\n",
    "rmse = np.sqrt(mse)\n",
    "mae = mean_absolute_error(y_test, gbr_predicao)\n",
    "r2 = r2_score(y_test, gbr_predicao)\n",
    "\n",
    "print(f\"Centro-Oeste - Gradient Boosting - Sem Outliers:\\n\")\n",
    "print(f\"Erro Quadrático Médio (MSE): {mse:.2f}\")\n",
    "print(f\"Root Mean Squared Error (RMSE): {rmse:.2f}\")\n",
    "print(f\"Mean Absolute Error (MAE): {mae:.2f}\")\n",
    "print(f\"Coeficiente de Determinação (R²): {r2:.2f} -> {r2 * 100:.2f}%\\n\")\n"
   ]
  },
  {
   "cell_type": "markdown",
   "id": "c81d7ec9-28ff-4ff3-af76-60650c6c261e",
   "metadata": {},
   "source": [
    "<h1 style=\"color:yellow;\">Ada Boost</h1>\n"
   ]
  },
  {
   "cell_type": "code",
   "execution_count": null,
   "id": "575e1a7c-edb0-4e0e-9f7c-a19d046339b2",
   "metadata": {},
   "outputs": [],
   "source": [
    "%%time\n",
    "\n",
    "X = df_centro_oeste_sem_outliers.drop(columns=['VENDAS']) \n",
    "y = df_centro_oeste_sem_outliers['VENDAS']\n",
    "\n",
    "X_train, X_test, y_train, y_test = train_test_split(X, y, test_size=0.3, random_state=42)\n",
    "\n",
    "adaboost = AdaBoostRegressor(n_estimators=200, learning_rate=0.1, random_state=42)\n",
    "\n",
    "adaboost.fit(X_train, y_train)\n",
    "\n",
    "adaboost_predicao = adaboost.predict(X_test)\n",
    "\n",
    "mse = mean_squared_error(y_test, adaboost_predicao)\n",
    "rmse = np.sqrt(mse)\n",
    "mae = mean_absolute_error(y_test, adaboost_predicao)\n",
    "r2 = r2_score(y_test, adaboost_predicao)\n",
    "\n",
    "print(f\"Centro-Oeste - AdaBoost - Sem Outliers:\\n\")\n",
    "print(f\"Erro Quadrático Médio (MSE): {mse:.2f}\")\n",
    "print(f\"Root Mean Squared Error (RMSE): {rmse:.2f}\")\n",
    "print(f\"Mean Absolute Error (MAE): {mae:.2f}\")\n",
    "print(f\"Coeficiente de Determinação (R²): {r2:.2f} -> {r2 * 100:.2f}%\\n\")\n",
    "print(f\"Tempo decorrido:\\n\")\n",
    "\n"
   ]
  },
  {
   "cell_type": "markdown",
   "id": "32473c8e-76b9-47af-b529-425404d7aeb8",
   "metadata": {},
   "source": [
    "<h1 style=\"color:yellow;\">Bagging Regressor</h1>\n"
   ]
  },
  {
   "cell_type": "code",
   "execution_count": null,
   "id": "386e01c1-a3a0-49a4-852e-3667f628549c",
   "metadata": {},
   "outputs": [],
   "source": [
    "%%time\n",
    "#BaggingRegressor\n",
    "\n",
    "X = df_centro_oeste_sem_outliers.drop(columns=['VENDAS']) \n",
    "y = df_centro_oeste_sem_outliers['VENDAS']\n",
    "\n",
    "X_train, X_test, y_train, y_test = train_test_split(X, y, test_size=0.3, random_state=42)\n",
    "\n",
    "# dependendo da versão do sklearn, ao inves de ser base estimator é só estimator\n",
    "bagging = BaggingRegressor(estimator=DecisionTreeRegressor(criterion='squared_error'), \n",
    "                           n_estimators=100, \n",
    "                           random_state=42)\n",
    "\n",
    "bagging.fit(X_train, y_train)\n",
    "\n",
    "predicao = bagging.predict(X_test)\n",
    "\n",
    "mse = mean_squared_error(y_test, predicao)\n",
    "rmse = np.sqrt(mse)\n",
    "mae = mean_absolute_error(y_test, predicao)\n",
    "r2 = r2_score(y_test, predicao)\n",
    "\n",
    "print(f\"Região Centro-Oeste - Bagging Regressor - Sem Outliers:\\n\")\n",
    "print(f\"Erro Quadrático Médio (MSE): {mse:.2f}\")\n",
    "print(f\"Root Mean Squared Error (RMSE): {rmse:.2f}\")\n",
    "print(f\"Mean Absolute Error (MAE): {mae:.2f}\")\n",
    "print(f\"Coeficiente de Determinação (R²): {r2:.2f} -> {r2 * 100:.2f}%\\n\")\n",
    "print(f\"Tempo decorrido:\\n\")\n",
    "\n"
   ]
  },
  {
   "cell_type": "markdown",
   "id": "17772c14-bc7c-4e51-b963-8c8e0c88ebed",
   "metadata": {},
   "source": [
    "<h1 style=\"color:yellow;\">KNN</h1>\n"
   ]
  },
  {
   "cell_type": "code",
   "execution_count": null,
   "id": "221727c4-119b-430d-9798-e0f1c971f3f3",
   "metadata": {},
   "outputs": [],
   "source": [
    "%%time\n",
    "#KNN\n",
    "X = df_centro_oeste_sem_outliers.drop(columns=['VENDAS']) \n",
    "y = df_centro_oeste_sem_outliers['VENDAS']  \n",
    "\n",
    "X_train, X_test, y_train, y_test = train_test_split(X, y, test_size=0.3, random_state=42)\n",
    "\n",
    "knn_regressor = KNeighborsRegressor(n_neighbors=5)  # Usando 5 vizinhos como padrão\n",
    "\n",
    "knn_regressor.fit(X_train, y_train)\n",
    "\n",
    "predicao = knn_regressor.predict(X_test)\n",
    "\n",
    "mse = mean_squared_error(y_test, predicao)\n",
    "mae = mean_absolute_error(y_test, predicao)\n",
    "r2 = r2_score(y_test, predicao)\n",
    "print(f\"Região Centro-Oeste - KNN - Sem Outliers:\\n\")\n",
    "print(f\"Erro Quadrático Médio (MSE): {mse:.2f}\")\n",
    "print(f\"Root Mean Squared Error (RMSE): {rmse:.2f}\")\n",
    "print(f\"Mean Absolute Error (MAE): {mae:.2f}\")\n",
    "print(f\"Coeficiente de Determinação (R²): {r2:.2f} -> {r2 * 100:.2f}%\\n\")\n",
    "print(f\"Tempo decorrido:\\n\")\n",
    "\n",
    "\n"
   ]
  },
  {
   "cell_type": "code",
   "execution_count": null,
   "id": "4c4fa0cd-c6f2-4b29-a747-8ddae33bd768",
   "metadata": {},
   "outputs": [],
   "source": []
  }
 ],
 "metadata": {
  "kernelspec": {
   "display_name": "Python 3 (ipykernel)",
   "language": "python",
   "name": "python3"
  },
  "language_info": {
   "codemirror_mode": {
    "name": "ipython",
    "version": 3
   },
   "file_extension": ".py",
   "mimetype": "text/x-python",
   "name": "python",
   "nbconvert_exporter": "python",
   "pygments_lexer": "ipython3",
   "version": "3.12.3"
  }
 },
 "nbformat": 4,
 "nbformat_minor": 5
}
