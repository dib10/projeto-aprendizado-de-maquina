{
 "cells": [
  {
   "cell_type": "code",
   "execution_count": 106,
   "id": "98a6ece1-ab4d-4c18-9e1f-19aa8d5def5e",
   "metadata": {},
   "outputs": [],
   "source": [
    "import pandas as pd\n",
    "import numpy as np\n",
    "import matplotlib.pyplot as plt\n",
    "import seaborn as sns\n"
   ]
  },
  {
   "cell_type": "markdown",
   "id": "93b0689c-67f1-42b2-aa4f-f30528ddd8bc",
   "metadata": {},
   "source": [
    "<h3 style=\"color:orange;\">Especificando os tipos dos atributos ao abrir o DataFrame, observa-se que \"vendas\" está no formato brasileiro (vírgula) e classificada como <i>object</i>, exigindo tratamento.</h3>\n"
   ]
  },
  {
   "cell_type": "code",
   "execution_count": 160,
   "id": "6abb308d-a80a-4628-aadd-406f02829d06",
   "metadata": {},
   "outputs": [],
   "source": [
    "#Ao todo temos 6 atributos\n",
    "tipos_de_dados = {\n",
    "    'ANO': int,\n",
    "    'MÊS': str,  \n",
    "    'GRANDE REGIÃO': str,\n",
    "    'UNIDADE DA FEDERAÇÃO': str,\n",
    "    'PRODUTO': str,\n",
    "    'VENDAS': float #passo direto como float ao abrir  \n",
    "} "
   ]
  },
  {
   "cell_type": "markdown",
   "id": "cb12a36b-2fcc-48b1-a3ee-4c139d44acb0",
   "metadata": {},
   "source": [
    "<h1 style=\"color:orange;\">Carrega o Dataset Vendas de Derivados de Petróleo e Biocombustíveis (m³) - 90.072 linhas × 6 colunas</h1>\n"
   ]
  },
  {
   "cell_type": "markdown",
   "id": "0d90043b-9296-4573-bc7c-5ffab2990dec",
   "metadata": {},
   "source": [
    "df = pd.read_csv('vendas-combustiveis-m3-1990-2024.csv', sep=';',  dtype=tipos_de_dados, decimal=',')"
   ]
  },
  {
   "cell_type": "code",
   "execution_count": 111,
   "id": "ea1c210f-7ae7-450b-baf3-3ebd8241241b",
   "metadata": {},
   "outputs": [
    {
     "data": {
      "text/html": [
       "<div>\n",
       "<style scoped>\n",
       "    .dataframe tbody tr th:only-of-type {\n",
       "        vertical-align: middle;\n",
       "    }\n",
       "\n",
       "    .dataframe tbody tr th {\n",
       "        vertical-align: top;\n",
       "    }\n",
       "\n",
       "    .dataframe thead th {\n",
       "        text-align: right;\n",
       "    }\n",
       "</style>\n",
       "<table border=\"1\" class=\"dataframe\">\n",
       "  <thead>\n",
       "    <tr style=\"text-align: right;\">\n",
       "      <th></th>\n",
       "      <th>ANO</th>\n",
       "      <th>MÊS</th>\n",
       "      <th>GRANDE REGIÃO</th>\n",
       "      <th>UNIDADE DA FEDERAÇÃO</th>\n",
       "      <th>PRODUTO</th>\n",
       "      <th>VENDAS</th>\n",
       "    </tr>\n",
       "  </thead>\n",
       "  <tbody>\n",
       "    <tr>\n",
       "      <th>0</th>\n",
       "      <td>1990</td>\n",
       "      <td>JAN</td>\n",
       "      <td>REGIÃO CENTRO-OESTE</td>\n",
       "      <td>GOIÁS</td>\n",
       "      <td>ETANOL HIDRATADO</td>\n",
       "      <td>29876.051</td>\n",
       "    </tr>\n",
       "    <tr>\n",
       "      <th>1</th>\n",
       "      <td>1990</td>\n",
       "      <td>SET</td>\n",
       "      <td>REGIÃO CENTRO-OESTE</td>\n",
       "      <td>DISTRITO FEDERAL</td>\n",
       "      <td>ETANOL HIDRATADO</td>\n",
       "      <td>20544.692</td>\n",
       "    </tr>\n",
       "    <tr>\n",
       "      <th>2</th>\n",
       "      <td>1990</td>\n",
       "      <td>OUT</td>\n",
       "      <td>REGIÃO CENTRO-OESTE</td>\n",
       "      <td>DISTRITO FEDERAL</td>\n",
       "      <td>ETANOL HIDRATADO</td>\n",
       "      <td>15368.064</td>\n",
       "    </tr>\n",
       "    <tr>\n",
       "      <th>3</th>\n",
       "      <td>1990</td>\n",
       "      <td>NOV</td>\n",
       "      <td>REGIÃO CENTRO-OESTE</td>\n",
       "      <td>DISTRITO FEDERAL</td>\n",
       "      <td>ETANOL HIDRATADO</td>\n",
       "      <td>34415.728</td>\n",
       "    </tr>\n",
       "    <tr>\n",
       "      <th>4</th>\n",
       "      <td>1990</td>\n",
       "      <td>FEV</td>\n",
       "      <td>REGIÃO CENTRO-OESTE</td>\n",
       "      <td>GOIÁS</td>\n",
       "      <td>ETANOL HIDRATADO</td>\n",
       "      <td>21750.741</td>\n",
       "    </tr>\n",
       "    <tr>\n",
       "      <th>...</th>\n",
       "      <td>...</td>\n",
       "      <td>...</td>\n",
       "      <td>...</td>\n",
       "      <td>...</td>\n",
       "      <td>...</td>\n",
       "      <td>...</td>\n",
       "    </tr>\n",
       "    <tr>\n",
       "      <th>90067</th>\n",
       "      <td>2024</td>\n",
       "      <td>ABR</td>\n",
       "      <td>REGIÃO NORTE</td>\n",
       "      <td>RORAIMA</td>\n",
       "      <td>ÓLEO DIESEL</td>\n",
       "      <td>26055.810</td>\n",
       "    </tr>\n",
       "    <tr>\n",
       "      <th>90068</th>\n",
       "      <td>2024</td>\n",
       "      <td>ABR</td>\n",
       "      <td>REGIÃO NORTE</td>\n",
       "      <td>TOCANTINS</td>\n",
       "      <td>ÓLEO DIESEL</td>\n",
       "      <td>105345.100</td>\n",
       "    </tr>\n",
       "    <tr>\n",
       "      <th>90069</th>\n",
       "      <td>2024</td>\n",
       "      <td>MAR</td>\n",
       "      <td>REGIÃO NORTE</td>\n",
       "      <td>TOCANTINS</td>\n",
       "      <td>ÓLEO DIESEL</td>\n",
       "      <td>107549.707</td>\n",
       "    </tr>\n",
       "    <tr>\n",
       "      <th>90070</th>\n",
       "      <td>2024</td>\n",
       "      <td>JUL</td>\n",
       "      <td>REGIÃO NORTE</td>\n",
       "      <td>AMAZONAS</td>\n",
       "      <td>ÓLEO DIESEL</td>\n",
       "      <td>91205.356</td>\n",
       "    </tr>\n",
       "    <tr>\n",
       "      <th>90071</th>\n",
       "      <td>2024</td>\n",
       "      <td>AGO</td>\n",
       "      <td>REGIÃO NORDESTE</td>\n",
       "      <td>CEARÁ</td>\n",
       "      <td>ÓLEO DIESEL</td>\n",
       "      <td>111733.400</td>\n",
       "    </tr>\n",
       "  </tbody>\n",
       "</table>\n",
       "<p>90072 rows × 6 columns</p>\n",
       "</div>"
      ],
      "text/plain": [
       "        ANO  MÊS        GRANDE REGIÃO UNIDADE DA FEDERAÇÃO           PRODUTO  \\\n",
       "0      1990  JAN  REGIÃO CENTRO-OESTE                GOIÁS  ETANOL HIDRATADO   \n",
       "1      1990  SET  REGIÃO CENTRO-OESTE     DISTRITO FEDERAL  ETANOL HIDRATADO   \n",
       "2      1990  OUT  REGIÃO CENTRO-OESTE     DISTRITO FEDERAL  ETANOL HIDRATADO   \n",
       "3      1990  NOV  REGIÃO CENTRO-OESTE     DISTRITO FEDERAL  ETANOL HIDRATADO   \n",
       "4      1990  FEV  REGIÃO CENTRO-OESTE                GOIÁS  ETANOL HIDRATADO   \n",
       "...     ...  ...                  ...                  ...               ...   \n",
       "90067  2024  ABR         REGIÃO NORTE              RORAIMA       ÓLEO DIESEL   \n",
       "90068  2024  ABR         REGIÃO NORTE            TOCANTINS       ÓLEO DIESEL   \n",
       "90069  2024  MAR         REGIÃO NORTE            TOCANTINS       ÓLEO DIESEL   \n",
       "90070  2024  JUL         REGIÃO NORTE             AMAZONAS       ÓLEO DIESEL   \n",
       "90071  2024  AGO      REGIÃO NORDESTE                CEARÁ       ÓLEO DIESEL   \n",
       "\n",
       "           VENDAS  \n",
       "0       29876.051  \n",
       "1       20544.692  \n",
       "2       15368.064  \n",
       "3       34415.728  \n",
       "4       21750.741  \n",
       "...           ...  \n",
       "90067   26055.810  \n",
       "90068  105345.100  \n",
       "90069  107549.707  \n",
       "90070   91205.356  \n",
       "90071  111733.400  \n",
       "\n",
       "[90072 rows x 6 columns]"
      ]
     },
     "execution_count": 111,
     "metadata": {},
     "output_type": "execute_result"
    }
   ],
   "source": [
    "df"
   ]
  },
  {
   "cell_type": "markdown",
   "id": "29e0f9c0-708b-4219-80e9-a8fd2d7b8fd0",
   "metadata": {},
   "source": [
    "<h2 style=\"color:orange;\">Pré-processamento</h2>\n"
   ]
  },
  {
   "cell_type": "code",
   "execution_count": 113,
   "id": "1013572e-69d9-4f63-8a28-a3f5603079de",
   "metadata": {},
   "outputs": [
    {
     "name": "stdout",
     "output_type": "stream",
     "text": [
      "<class 'pandas.core.frame.DataFrame'>\n",
      "RangeIndex: 90072 entries, 0 to 90071\n",
      "Data columns (total 6 columns):\n",
      " #   Column                Non-Null Count  Dtype  \n",
      "---  ------                --------------  -----  \n",
      " 0   ANO                   90072 non-null  int32  \n",
      " 1   MÊS                   90072 non-null  object \n",
      " 2   GRANDE REGIÃO         90072 non-null  object \n",
      " 3   UNIDADE DA FEDERAÇÃO  90072 non-null  object \n",
      " 4   PRODUTO               90072 non-null  object \n",
      " 5   VENDAS                90072 non-null  float64\n",
      "dtypes: float64(1), int32(1), object(4)\n",
      "memory usage: 3.8+ MB\n"
     ]
    }
   ],
   "source": [
    "df.info()"
   ]
  },
  {
   "cell_type": "code",
   "execution_count": 114,
   "id": "6931688d-0ee1-4e09-97c1-e2690e506d6e",
   "metadata": {},
   "outputs": [
    {
     "data": {
      "text/plain": [
       "ANO                     0\n",
       "MÊS                     0\n",
       "GRANDE REGIÃO           0\n",
       "UNIDADE DA FEDERAÇÃO    0\n",
       "PRODUTO                 0\n",
       "VENDAS                  0\n",
       "dtype: int64"
      ]
     },
     "execution_count": 114,
     "metadata": {},
     "output_type": "execute_result"
    }
   ],
   "source": [
    "df.isnull().sum()"
   ]
  },
  {
   "cell_type": "code",
   "execution_count": 115,
   "id": "6acf483a-496a-4477-a8c8-8c4be2d11c00",
   "metadata": {},
   "outputs": [
    {
     "data": {
      "text/plain": [
       "ANO                        35\n",
       "MÊS                        12\n",
       "GRANDE REGIÃO               5\n",
       "UNIDADE DA FEDERAÇÃO       27\n",
       "PRODUTO                     8\n",
       "VENDAS                  78740\n",
       "dtype: int64"
      ]
     },
     "execution_count": 115,
     "metadata": {},
     "output_type": "execute_result"
    }
   ],
   "source": [
    "df.nunique()"
   ]
  },
  {
   "cell_type": "code",
   "execution_count": 116,
   "id": "381db3c2-a256-447f-9536-445bb370900f",
   "metadata": {},
   "outputs": [
    {
     "data": {
      "text/plain": [
       "ANO                       int32\n",
       "MÊS                      object\n",
       "GRANDE REGIÃO            object\n",
       "UNIDADE DA FEDERAÇÃO     object\n",
       "PRODUTO                  object\n",
       "VENDAS                  float64\n",
       "dtype: object"
      ]
     },
     "execution_count": 116,
     "metadata": {},
     "output_type": "execute_result"
    }
   ],
   "source": [
    "df.dtypes"
   ]
  },
  {
   "cell_type": "code",
   "execution_count": 117,
   "id": "296b80fb-5856-4b40-b39b-52c1906e79a1",
   "metadata": {},
   "outputs": [
    {
     "data": {
      "text/plain": [
       "0"
      ]
     },
     "execution_count": 117,
     "metadata": {},
     "output_type": "execute_result"
    }
   ],
   "source": [
    "df.duplicated().sum()"
   ]
  },
  {
   "cell_type": "code",
   "execution_count": 118,
   "id": "195a20f5-2b3a-4a6c-8e1f-bdbefc447dfb",
   "metadata": {},
   "outputs": [
    {
     "name": "stdout",
     "output_type": "stream",
     "text": [
      "['ETANOL HIDRATADO' 'GASOLINA C' 'GASOLINA DE AVIAÇÃO' 'GLP'\n",
      " 'QUEROSENE DE AVIAÇÃO' 'QUEROSENE ILUMINANTE' 'ÓLEO COMBUSTÍVEL'\n",
      " 'ÓLEO DIESEL']\n"
     ]
    }
   ],
   "source": [
    "produtos_unicos = df['PRODUTO'].unique()\n",
    "\n",
    "print(produtos_unicos)\n"
   ]
  },
  {
   "cell_type": "markdown",
   "id": "5c2e95e7-fd09-43de-a7e4-34a046f8f54e",
   "metadata": {},
   "source": [
    "<h1 style=\"color:orange;\">Contando a ocorrência de cada valor</h1>\n"
   ]
  },
  {
   "cell_type": "code",
   "execution_count": 120,
   "id": "30f10e44-5244-479d-9197-788dabaca78c",
   "metadata": {},
   "outputs": [
    {
     "data": {
      "text/plain": [
       "PRODUTO\n",
       "ETANOL HIDRATADO        11259\n",
       "GASOLINA C              11259\n",
       "GASOLINA DE AVIAÇÃO     11259\n",
       "GLP                     11259\n",
       "QUEROSENE DE AVIAÇÃO    11259\n",
       "QUEROSENE ILUMINANTE    11259\n",
       "ÓLEO COMBUSTÍVEL        11259\n",
       "ÓLEO DIESEL             11259\n",
       "Name: count, dtype: int64"
      ]
     },
     "execution_count": 120,
     "metadata": {},
     "output_type": "execute_result"
    }
   ],
   "source": [
    "conta_produtos = df['PRODUTO'].value_counts()\n",
    "conta_produtos"
   ]
  },
  {
   "cell_type": "code",
   "execution_count": 121,
   "id": "6751d5b1-280a-4e4f-8050-5bf347b3c11e",
   "metadata": {},
   "outputs": [
    {
     "data": {
      "text/plain": [
       "MÊS\n",
       "JAN    7560\n",
       "SET    7560\n",
       "FEV    7560\n",
       "JUL    7560\n",
       "MAI    7560\n",
       "MAR    7560\n",
       "AGO    7560\n",
       "JUN    7560\n",
       "ABR    7560\n",
       "OUT    7344\n",
       "NOV    7344\n",
       "DEZ    7344\n",
       "Name: count, dtype: int64"
      ]
     },
     "execution_count": 121,
     "metadata": {},
     "output_type": "execute_result"
    }
   ],
   "source": [
    "conta_mes = df['MÊS'].value_counts()\n",
    "conta_mes"
   ]
  },
  {
   "cell_type": "code",
   "execution_count": 122,
   "id": "a4d97459-9238-4451-a7dd-2c7a4624a84c",
   "metadata": {},
   "outputs": [
    {
     "data": {
      "text/plain": [
       "VENDAS\n",
       "0.000         6605\n",
       "10.000         273\n",
       "5.000          249\n",
       "15.000         213\n",
       "20.000         165\n",
       "              ... \n",
       "1762.316         1\n",
       "1846.196         1\n",
       "2196.345         1\n",
       "1695.980         1\n",
       "111733.400       1\n",
       "Name: count, Length: 78740, dtype: int64"
      ]
     },
     "execution_count": 122,
     "metadata": {},
     "output_type": "execute_result"
    }
   ],
   "source": [
    "conta_vendas = df['VENDAS'].value_counts()\n",
    "conta_vendas"
   ]
  },
  {
   "cell_type": "code",
   "execution_count": 123,
   "id": "2bc94c21-8761-4831-87f3-eaf1bccb92ff",
   "metadata": {},
   "outputs": [
    {
     "data": {
      "text/plain": [
       "ANO\n",
       "1990    2592\n",
       "2016    2592\n",
       "2010    2592\n",
       "2011    2592\n",
       "2012    2592\n",
       "2013    2592\n",
       "2014    2592\n",
       "2015    2592\n",
       "2017    2592\n",
       "2008    2592\n",
       "2018    2592\n",
       "2019    2592\n",
       "2020    2592\n",
       "2021    2592\n",
       "2022    2592\n",
       "2023    2592\n",
       "2009    2592\n",
       "2007    2592\n",
       "1991    2592\n",
       "1998    2592\n",
       "1992    2592\n",
       "1993    2592\n",
       "1994    2592\n",
       "1995    2592\n",
       "1996    2592\n",
       "1997    2592\n",
       "1999    2592\n",
       "2006    2592\n",
       "2000    2592\n",
       "2001    2592\n",
       "2002    2592\n",
       "2003    2592\n",
       "2004    2592\n",
       "2005    2592\n",
       "2024    1944\n",
       "Name: count, dtype: int64"
      ]
     },
     "execution_count": 123,
     "metadata": {},
     "output_type": "execute_result"
    }
   ],
   "source": [
    "conta_ano = df['ANO'].value_counts()\n",
    "conta_ano"
   ]
  },
  {
   "cell_type": "markdown",
   "id": "b78064fc-5cd9-4918-bfa1-1533d3f1dd75",
   "metadata": {},
   "source": [
    "<h3 style=\"color:orange;\">Separando dados em númericos e categóricos</h3>\n"
   ]
  },
  {
   "cell_type": "code",
   "execution_count": 154,
   "id": "7af12015-7fac-4524-8ec4-e04212464fd9",
   "metadata": {},
   "outputs": [],
   "source": [
    "df_categorico = df.select_dtypes(include=['object'])\n",
    "df_numerico = df.select_dtypes(include=['number'])"
   ]
  },
  {
   "cell_type": "code",
   "execution_count": 162,
   "id": "ed31d9e7-7ea1-494e-a03e-1260434ff62f",
   "metadata": {},
   "outputs": [
    {
     "data": {
      "text/html": [
       "<div>\n",
       "<style scoped>\n",
       "    .dataframe tbody tr th:only-of-type {\n",
       "        vertical-align: middle;\n",
       "    }\n",
       "\n",
       "    .dataframe tbody tr th {\n",
       "        vertical-align: top;\n",
       "    }\n",
       "\n",
       "    .dataframe thead th {\n",
       "        text-align: right;\n",
       "    }\n",
       "</style>\n",
       "<table border=\"1\" class=\"dataframe\">\n",
       "  <thead>\n",
       "    <tr style=\"text-align: right;\">\n",
       "      <th></th>\n",
       "      <th>MÊS</th>\n",
       "      <th>GRANDE REGIÃO</th>\n",
       "      <th>UNIDADE DA FEDERAÇÃO</th>\n",
       "      <th>PRODUTO</th>\n",
       "    </tr>\n",
       "  </thead>\n",
       "  <tbody>\n",
       "    <tr>\n",
       "      <th>0</th>\n",
       "      <td>JAN</td>\n",
       "      <td>REGIÃO CENTRO-OESTE</td>\n",
       "      <td>GOIÁS</td>\n",
       "      <td>ETANOL HIDRATADO</td>\n",
       "    </tr>\n",
       "    <tr>\n",
       "      <th>1</th>\n",
       "      <td>SET</td>\n",
       "      <td>REGIÃO CENTRO-OESTE</td>\n",
       "      <td>DISTRITO FEDERAL</td>\n",
       "      <td>ETANOL HIDRATADO</td>\n",
       "    </tr>\n",
       "    <tr>\n",
       "      <th>2</th>\n",
       "      <td>OUT</td>\n",
       "      <td>REGIÃO CENTRO-OESTE</td>\n",
       "      <td>DISTRITO FEDERAL</td>\n",
       "      <td>ETANOL HIDRATADO</td>\n",
       "    </tr>\n",
       "    <tr>\n",
       "      <th>3</th>\n",
       "      <td>NOV</td>\n",
       "      <td>REGIÃO CENTRO-OESTE</td>\n",
       "      <td>DISTRITO FEDERAL</td>\n",
       "      <td>ETANOL HIDRATADO</td>\n",
       "    </tr>\n",
       "    <tr>\n",
       "      <th>4</th>\n",
       "      <td>FEV</td>\n",
       "      <td>REGIÃO CENTRO-OESTE</td>\n",
       "      <td>GOIÁS</td>\n",
       "      <td>ETANOL HIDRATADO</td>\n",
       "    </tr>\n",
       "    <tr>\n",
       "      <th>...</th>\n",
       "      <td>...</td>\n",
       "      <td>...</td>\n",
       "      <td>...</td>\n",
       "      <td>...</td>\n",
       "    </tr>\n",
       "    <tr>\n",
       "      <th>90067</th>\n",
       "      <td>ABR</td>\n",
       "      <td>REGIÃO NORTE</td>\n",
       "      <td>RORAIMA</td>\n",
       "      <td>ÓLEO DIESEL</td>\n",
       "    </tr>\n",
       "    <tr>\n",
       "      <th>90068</th>\n",
       "      <td>ABR</td>\n",
       "      <td>REGIÃO NORTE</td>\n",
       "      <td>TOCANTINS</td>\n",
       "      <td>ÓLEO DIESEL</td>\n",
       "    </tr>\n",
       "    <tr>\n",
       "      <th>90069</th>\n",
       "      <td>MAR</td>\n",
       "      <td>REGIÃO NORTE</td>\n",
       "      <td>TOCANTINS</td>\n",
       "      <td>ÓLEO DIESEL</td>\n",
       "    </tr>\n",
       "    <tr>\n",
       "      <th>90070</th>\n",
       "      <td>JUL</td>\n",
       "      <td>REGIÃO NORTE</td>\n",
       "      <td>AMAZONAS</td>\n",
       "      <td>ÓLEO DIESEL</td>\n",
       "    </tr>\n",
       "    <tr>\n",
       "      <th>90071</th>\n",
       "      <td>AGO</td>\n",
       "      <td>REGIÃO NORDESTE</td>\n",
       "      <td>CEARÁ</td>\n",
       "      <td>ÓLEO DIESEL</td>\n",
       "    </tr>\n",
       "  </tbody>\n",
       "</table>\n",
       "<p>90072 rows × 4 columns</p>\n",
       "</div>"
      ],
      "text/plain": [
       "       MÊS        GRANDE REGIÃO UNIDADE DA FEDERAÇÃO           PRODUTO\n",
       "0      JAN  REGIÃO CENTRO-OESTE                GOIÁS  ETANOL HIDRATADO\n",
       "1      SET  REGIÃO CENTRO-OESTE     DISTRITO FEDERAL  ETANOL HIDRATADO\n",
       "2      OUT  REGIÃO CENTRO-OESTE     DISTRITO FEDERAL  ETANOL HIDRATADO\n",
       "3      NOV  REGIÃO CENTRO-OESTE     DISTRITO FEDERAL  ETANOL HIDRATADO\n",
       "4      FEV  REGIÃO CENTRO-OESTE                GOIÁS  ETANOL HIDRATADO\n",
       "...    ...                  ...                  ...               ...\n",
       "90067  ABR         REGIÃO NORTE              RORAIMA       ÓLEO DIESEL\n",
       "90068  ABR         REGIÃO NORTE            TOCANTINS       ÓLEO DIESEL\n",
       "90069  MAR         REGIÃO NORTE            TOCANTINS       ÓLEO DIESEL\n",
       "90070  JUL         REGIÃO NORTE             AMAZONAS       ÓLEO DIESEL\n",
       "90071  AGO      REGIÃO NORDESTE                CEARÁ       ÓLEO DIESEL\n",
       "\n",
       "[90072 rows x 4 columns]"
      ]
     },
     "execution_count": 162,
     "metadata": {},
     "output_type": "execute_result"
    }
   ],
   "source": [
    "df_categorico"
   ]
  },
  {
   "cell_type": "code",
   "execution_count": 164,
   "id": "16a8ad6d-3469-4a89-b258-1ce13741b9bd",
   "metadata": {},
   "outputs": [
    {
     "data": {
      "text/html": [
       "<div>\n",
       "<style scoped>\n",
       "    .dataframe tbody tr th:only-of-type {\n",
       "        vertical-align: middle;\n",
       "    }\n",
       "\n",
       "    .dataframe tbody tr th {\n",
       "        vertical-align: top;\n",
       "    }\n",
       "\n",
       "    .dataframe thead th {\n",
       "        text-align: right;\n",
       "    }\n",
       "</style>\n",
       "<table border=\"1\" class=\"dataframe\">\n",
       "  <thead>\n",
       "    <tr style=\"text-align: right;\">\n",
       "      <th></th>\n",
       "      <th>ANO</th>\n",
       "      <th>VENDAS</th>\n",
       "    </tr>\n",
       "  </thead>\n",
       "  <tbody>\n",
       "    <tr>\n",
       "      <th>0</th>\n",
       "      <td>1990</td>\n",
       "      <td>29876.051</td>\n",
       "    </tr>\n",
       "    <tr>\n",
       "      <th>1</th>\n",
       "      <td>1990</td>\n",
       "      <td>20544.692</td>\n",
       "    </tr>\n",
       "    <tr>\n",
       "      <th>2</th>\n",
       "      <td>1990</td>\n",
       "      <td>15368.064</td>\n",
       "    </tr>\n",
       "    <tr>\n",
       "      <th>3</th>\n",
       "      <td>1990</td>\n",
       "      <td>34415.728</td>\n",
       "    </tr>\n",
       "    <tr>\n",
       "      <th>4</th>\n",
       "      <td>1990</td>\n",
       "      <td>21750.741</td>\n",
       "    </tr>\n",
       "    <tr>\n",
       "      <th>...</th>\n",
       "      <td>...</td>\n",
       "      <td>...</td>\n",
       "    </tr>\n",
       "    <tr>\n",
       "      <th>90067</th>\n",
       "      <td>2024</td>\n",
       "      <td>26055.810</td>\n",
       "    </tr>\n",
       "    <tr>\n",
       "      <th>90068</th>\n",
       "      <td>2024</td>\n",
       "      <td>105345.100</td>\n",
       "    </tr>\n",
       "    <tr>\n",
       "      <th>90069</th>\n",
       "      <td>2024</td>\n",
       "      <td>107549.707</td>\n",
       "    </tr>\n",
       "    <tr>\n",
       "      <th>90070</th>\n",
       "      <td>2024</td>\n",
       "      <td>91205.356</td>\n",
       "    </tr>\n",
       "    <tr>\n",
       "      <th>90071</th>\n",
       "      <td>2024</td>\n",
       "      <td>111733.400</td>\n",
       "    </tr>\n",
       "  </tbody>\n",
       "</table>\n",
       "<p>90072 rows × 2 columns</p>\n",
       "</div>"
      ],
      "text/plain": [
       "        ANO      VENDAS\n",
       "0      1990   29876.051\n",
       "1      1990   20544.692\n",
       "2      1990   15368.064\n",
       "3      1990   34415.728\n",
       "4      1990   21750.741\n",
       "...     ...         ...\n",
       "90067  2024   26055.810\n",
       "90068  2024  105345.100\n",
       "90069  2024  107549.707\n",
       "90070  2024   91205.356\n",
       "90071  2024  111733.400\n",
       "\n",
       "[90072 rows x 2 columns]"
      ]
     },
     "execution_count": 164,
     "metadata": {},
     "output_type": "execute_result"
    }
   ],
   "source": [
    "df_numerico"
   ]
  },
  {
   "cell_type": "code",
   "execution_count": null,
   "id": "acb52e5b-7301-45cd-a371-6dbb271c8ec5",
   "metadata": {},
   "outputs": [],
   "source": []
  }
 ],
 "metadata": {
  "kernelspec": {
   "display_name": "Python 3 (ipykernel)",
   "language": "python",
   "name": "python3"
  },
  "language_info": {
   "codemirror_mode": {
    "name": "ipython",
    "version": 3
   },
   "file_extension": ".py",
   "mimetype": "text/x-python",
   "name": "python",
   "nbconvert_exporter": "python",
   "pygments_lexer": "ipython3",
   "version": "3.12.4"
  }
 },
 "nbformat": 4,
 "nbformat_minor": 5
}
